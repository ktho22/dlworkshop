{
 "cells": [
  {
   "cell_type": "markdown",
   "metadata": {},
   "source": [
    "# 딥러닝 라이브러리 실습: Torch의 이해 및 실습"
   ]
  },
  {
   "cell_type": "markdown",
   "metadata": {},
   "source": [
    "\n",
    "### 실습 목표\n",
    "\n",
    "* Torch와 nn 패키지의 이해\n",
    "* 작은 Neural network 를 CPU에서 학습 및 실험"
   ]
  },
  {
   "cell_type": "markdown",
   "metadata": {},
   "source": [
    "## 시작에 앞서"
   ]
  },
  {
   "cell_type": "markdown",
   "metadata": {},
   "source": [
    "* Torch는 `Lua` 를 사용하여 코딩함\n",
    "* `Lua`는 `Javascript`와 유사한 면을 지니며, 변수는 global이 default로, `local`이라는 키워드로 로컬변수 설정이 가능\n",
    "* 1-based indexing.\n",
    "* Function call `foo.bar()`는 Lua에서 `foo:bar()`로 쓰임\n",
    "* Python에서의 `import`, C에서 `include` 처럼 외부 라이브러리를 포함시키는 명령어는 `require`임\n"
   ]
  },
  {
   "cell_type": "markdown",
   "metadata": {},
   "source": [
    "## 0. Lua: 기본 사용법\n",
    "#### Strings, numbers, and tables"
   ]
  },
  {
   "cell_type": "code",
   "execution_count": 1,
   "metadata": {
    "collapsed": false
   },
   "outputs": [],
   "source": [
    "a = 'hello'"
   ]
  },
  {
   "cell_type": "code",
   "execution_count": 2,
   "metadata": {
    "collapsed": false
   },
   "outputs": [
    {
     "data": {
      "text/plain": [
       "hello\t\n"
      ]
     },
     "execution_count": 2,
     "metadata": {},
     "output_type": "execute_result"
    }
   ],
   "source": [
    "print(a)"
   ]
  },
  {
   "cell_type": "code",
   "execution_count": 3,
   "metadata": {
    "collapsed": false
   },
   "outputs": [],
   "source": [
    "b = {}"
   ]
  },
  {
   "cell_type": "code",
   "execution_count": 4,
   "metadata": {
    "collapsed": false
   },
   "outputs": [],
   "source": [
    "b[1] = a"
   ]
  },
  {
   "cell_type": "code",
   "execution_count": 5,
   "metadata": {
    "collapsed": false
   },
   "outputs": [
    {
     "data": {
      "text/plain": [
       "{\n",
       "  1 : hello\n",
       "}\n"
      ]
     },
     "execution_count": 5,
     "metadata": {},
     "output_type": "execute_result"
    }
   ],
   "source": [
    "print(b)"
   ]
  },
  {
   "cell_type": "code",
   "execution_count": 6,
   "metadata": {
    "collapsed": false
   },
   "outputs": [],
   "source": [
    "b[2] = 30"
   ]
  },
  {
   "cell_type": "code",
   "execution_count": 7,
   "metadata": {
    "collapsed": false
   },
   "outputs": [
    {
     "data": {
      "text/plain": [
       "hello\t\n",
       "30\t\n"
      ]
     },
     "execution_count": 7,
     "metadata": {},
     "output_type": "execute_result"
    }
   ],
   "source": [
    "for i=1,#b do -- the # operator is the length operator in Lua\n",
    "    print(b[i]) \n",
    "end"
   ]
  },
  {
   "cell_type": "markdown",
   "metadata": {},
   "source": [
    "#### Tensors"
   ]
  },
  {
   "cell_type": "code",
   "execution_count": 8,
   "metadata": {
    "collapsed": false
   },
   "outputs": [],
   "source": [
    "a = torch.Tensor(5,3) -- construct a 5x3 matrix, uninitialized"
   ]
  },
  {
   "cell_type": "code",
   "execution_count": 9,
   "metadata": {
    "collapsed": false
   },
   "outputs": [
    {
     "data": {
      "text/plain": [
       " 0.7800  0.7658  0.8496\n",
       " 0.0961  0.3237  0.1696\n",
       " 0.8347  0.1862  0.8268\n",
       " 0.2372  0.6862  0.7682\n",
       " 0.2602  0.0934  0.1783\n",
       "[torch.DoubleTensor of size 5x3]\n",
       "\n"
      ]
     },
     "execution_count": 9,
     "metadata": {},
     "output_type": "execute_result"
    }
   ],
   "source": [
    "a = torch.rand(5,3)\n",
    "print(a)"
   ]
  },
  {
   "cell_type": "code",
   "execution_count": 10,
   "metadata": {
    "collapsed": false
   },
   "outputs": [],
   "source": [
    "b=torch.rand(3,4)"
   ]
  },
  {
   "cell_type": "code",
   "execution_count": 11,
   "metadata": {
    "collapsed": false
   },
   "outputs": [
    {
     "data": {
      "text/plain": [
       " 1.3128  1.6655  0.6137  1.5071\n",
       " 0.3404  0.4113  0.0962  0.3715\n",
       " 0.9372  1.3062  0.6104  1.1270\n",
       " 0.8524  1.2797  0.2697  0.9332\n",
       " 0.2962  0.3532  0.1835  0.3547\n",
       "[torch.DoubleTensor of size 5x4]\n",
       "\n"
      ]
     },
     "execution_count": 11,
     "metadata": {},
     "output_type": "execute_result"
    }
   ],
   "source": [
    "-- matrix-matrix multiplication: syntax 1\n",
    "a*b "
   ]
  },
  {
   "cell_type": "code",
   "execution_count": 12,
   "metadata": {
    "collapsed": false
   },
   "outputs": [
    {
     "data": {
      "text/plain": [
       " 1.3128  1.6655  0.6137  1.5071\n",
       " 0.3404  0.4113  0.0962  0.3715\n",
       " 0.9372  1.3062  0.6104  1.1270\n",
       " 0.8524  1.2797  0.2697  0.9332\n",
       " 0.2962  0.3532  0.1835  0.3547\n",
       "[torch.DoubleTensor of size 5x4]\n",
       "\n"
      ]
     },
     "execution_count": 12,
     "metadata": {},
     "output_type": "execute_result"
    }
   ],
   "source": [
    "-- matrix-matrix multiplication: syntax 2\n",
    "torch.mm(a,b) "
   ]
  },
  {
   "cell_type": "code",
   "execution_count": 13,
   "metadata": {
    "collapsed": false
   },
   "outputs": [],
   "source": [
    "-- matrix-matrix multiplication: syntax 3\n",
    "c=torch.Tensor(5,4)\n",
    "c:mm(a,b) -- store the result of a*b in c"
   ]
  },
  {
   "cell_type": "markdown",
   "metadata": {},
   "source": [
    "#### (Optional) CUDA Tensors\n",
    ":cuda function 을 통해서 변수를 GPU로 보낼 수 있음\n",
    "\n",
    "본 실습에서 주어진 환경은 CPU 기반으로 작동되지 않음\n"
   ]
  },
  {
   "cell_type": "code",
   "execution_count": 14,
   "metadata": {
    "collapsed": false
   },
   "outputs": [
    {
     "ename": "[string \"require 'cutorch';...\"]:1: module 'cutorch' not found:\n\tno field package.preload['cutorch']\n\tno file '/root/.luarocks/share/lua/5.1/cutorch.lua'\n\tno file '/root/.luarocks/share/lua/5.1/cutorch/init.lua'\n\tno file '/root/torch/install/share/lua/5.1/cutorch.lua'\n\tno file '/root/torch/install/share/lua/5.1/cutorch/init.lua'\n\tno file './cutorch.lua'\n\tno file '/root/torch/install/share/luajit-2.1.0-beta1/cutorch.lua'\n\tno file '/usr/local/share/lua/5.1/cutorch.lua'\n\tno file '/usr/local/share/lua/5.1/cutorch/init.lua'\n\tno file '/root/torch/install/lib/cutorch.so'\n\tno file '/root/.luarocks/lib/lua/5.1/cutorch.so'\n\tno file '/root/torch/install/lib/lua/5.1/cutorch.so'\n\tno file './cutorch.so'\n\tno file '/usr/local/lib/lua/5.1/cutorch.so'\n\tno file '/usr/local/lib/lua/5.1/loadall.so'\nstack traceback:\n\t[C]: in function 'require'\n\t[string \"require 'cutorch';...\"]:1: in main chunk\n\t[C]: in function 'xpcall'\n\t/root/torch/install/share/lua/5.1/itorch/main.lua:209: in function </root/torch/install/share/lua/5.1/itorch/main.lua:173>\n\t/root/torch/install/share/lua/5.1/lzmq/poller.lua:75: in function 'poll'\n\t/root/torch/install/share/lua/5.1/lzmq/impl/loop.lua:307: in function 'poll'\n\t/root/torch/install/share/lua/5.1/lzmq/impl/loop.lua:325: in function 'sleep_ex'\n\t/root/torch/install/share/lua/5.1/lzmq/impl/loop.lua:370: in function 'start'\n\t/root/torch/install/share/lua/5.1/itorch/main.lua:381: in main chunk\n\t[C]: in function 'require'\n\t(command line):1: in main chunk\n\t[C]: at 0x00406670",
     "evalue": "",
     "output_type": "error",
     "traceback": [
      "[string \"require 'cutorch';...\"]:1: module 'cutorch' not found:\n\tno field package.preload['cutorch']\n\tno file '/root/.luarocks/share/lua/5.1/cutorch.lua'\n\tno file '/root/.luarocks/share/lua/5.1/cutorch/init.lua'\n\tno file '/root/torch/install/share/lua/5.1/cutorch.lua'\n\tno file '/root/torch/install/share/lua/5.1/cutorch/init.lua'\n\tno file './cutorch.lua'\n\tno file '/root/torch/install/share/luajit-2.1.0-beta1/cutorch.lua'\n\tno file '/usr/local/share/lua/5.1/cutorch.lua'\n\tno file '/usr/local/share/lua/5.1/cutorch/init.lua'\n\tno file '/root/torch/install/lib/cutorch.so'\n\tno file '/root/.luarocks/lib/lua/5.1/cutorch.so'\n\tno file '/root/torch/install/lib/lua/5.1/cutorch.so'\n\tno file './cutorch.so'\n\tno file '/usr/local/lib/lua/5.1/cutorch.so'\n\tno file '/usr/local/lib/lua/5.1/loadall.so'\nstack traceback:\n\t[C]: in function 'require'\n\t[string \"require 'cutorch';...\"]:1: in main chunk\n\t[C]: in function 'xpcall'\n\t/root/torch/install/share/lua/5.1/itorch/main.lua:209: in function </root/torch/install/share/lua/5.1/itorch/main.lua:173>\n\t/root/torch/install/share/lua/5.1/lzmq/poller.lua:75: in function 'poll'\n\t/root/torch/install/share/lua/5.1/lzmq/impl/loop.lua:307: in function 'poll'\n\t/root/torch/install/share/lua/5.1/lzmq/impl/loop.lua:325: in function 'sleep_ex'\n\t/root/torch/install/share/lua/5.1/lzmq/impl/loop.lua:370: in function 'start'\n\t/root/torch/install/share/lua/5.1/itorch/main.lua:381: in main chunk\n\t[C]: in function 'require'\n\t(command line):1: in main chunk\n\t[C]: at 0x00406670"
     ]
    }
   ],
   "source": [
    "require 'cutorch';\n",
    "a = a:cuda()\n",
    "b = b:cuda()\n",
    "c = c:cuda()\n",
    "c:mm(a,b) -- done on GPU"
   ]
  },
  {
   "cell_type": "markdown",
   "metadata": {},
   "source": [
    "#### Exercise: Add two tensors\n",
    "https://github.com/torch/torch7/blob/master/doc/maths.md#res-torchaddres-tensor1-tensor2"
   ]
  },
  {
   "cell_type": "code",
   "execution_count": 14,
   "metadata": {
    "collapsed": false
   },
   "outputs": [],
   "source": [
    "function addTensors(a,b)\n",
    "    return a --FIX ME\n",
    "end"
   ]
  },
  {
   "cell_type": "code",
   "execution_count": 15,
   "metadata": {
    "collapsed": false
   },
   "outputs": [
    {
     "data": {
      "text/plain": [
       " 1  1\n",
       " 1  1\n",
       " 1  1\n",
       " 1  1\n",
       " 1  1\n",
       "[torch.DoubleTensor of size 5x2]\n",
       "\n"
      ]
     },
     "execution_count": 15,
     "metadata": {},
     "output_type": "execute_result"
    }
   ],
   "source": [
    "a = torch.ones(5,2)\n",
    "b = torch.Tensor(2,5):fill(4)\n",
    "print(addTensors(a,b))"
   ]
  },
  {
   "cell_type": "markdown",
   "metadata": {},
   "source": [
    "예상 결과:\n",
    "\n",
    "5 5\n",
    "\n",
    "5 5\n",
    "\n",
    "5 5\n",
    "\n",
    "5 5\n",
    "\n",
    "5 5"
   ]
  },
  {
   "cell_type": "markdown",
   "metadata": {},
   "source": [
    "### Neural Networks\n",
    "Torch 에서 Neural Net은 `nn` 이라는 패키지를 통해서 구축함"
   ]
  },
  {
   "cell_type": "code",
   "execution_count": 16,
   "metadata": {
    "collapsed": false
   },
   "outputs": [],
   "source": [
    "require 'nn';"
   ]
  },
  {
   "cell_type": "markdown",
   "metadata": {},
   "source": [
    "* `module`은 Neural Net을 구성하는 기본 요소로, Layer, activation 등을 정의함\n",
    "* 각 `module`은 `containers`를 이용하여 보다 복잡한 구조로 설계가 가능함"
   ]
  },
  {
   "cell_type": "markdown",
   "metadata": {},
   "source": [
    "예시로, 다음과 같은 네트워크를 만들어보겠습니다.\n",
    "![LeNet](http://fastml.com/images/cifar/lenet5.png)"
   ]
  },
  {
   "cell_type": "markdown",
   "metadata": {},
   "source": [
    "* 위 네트워크는 Yann Lecun이 제시한 `LeNet` 이라고 불리는 네트워크로, 최근에는 `Convolutional Neural Network (CNN)` 이라는 이름으로 불림\n",
    "* 간단한 feed-forward 구조를 가지며, 입력으로 이미지를 받아 일련의 레이어들의 연산을 거친 뒤 해당 이미지가 0~9중 어떤 숫자인 지 맞추는 역할을 수행함\n",
    "* 이런 경우, `nn.Sequential`을 이용하여 여러 레이어를 묶을 수 있음"
   ]
  },
  {
   "cell_type": "code",
   "execution_count": 17,
   "metadata": {
    "collapsed": false
   },
   "outputs": [
    {
     "data": {
      "text/plain": [
       "Lenet5\n",
       "nn.Sequential {\n",
       "  [input -> (1) -> (2) -> (3) -> (4) -> (5) -> (6) -> (7) -> (8) -> (9) -> (10) -> (11) -> (12) -> (13) -> output]\n",
       "  (1): nn.SpatialConvolution(1 -> 6, 5x5)\n",
       "  (2): nn.ReLU\n",
       "  (3): nn.SpatialMaxPooling(2x2, 2,2)\n",
       "  (4): nn.SpatialConvolution(6 -> 16, 5x5)\n",
       "  (5): nn.ReLU\n",
       "  (6): nn.SpatialMaxPooling(2x2, 2,2)\n",
       "  (7): nn.View(400)\n",
       "  (8): nn.Linear(400 -> 120)\n",
       "  (9): nn.ReLU\n",
       "  (10): nn.Linear(120 -> 84)\n",
       "  (11): nn.ReLU\n",
       "  (12): nn.Linear(84 -> 10)\n",
       "  (13): nn.LogSoftMax\n",
       "}\t\n"
      ]
     },
     "execution_count": 17,
     "metadata": {},
     "output_type": "execute_result"
    }
   ],
   "source": [
    "net = nn.Sequential()\n",
    "net:add(nn.SpatialConvolution(1, 6, 5, 5)) -- 1 input image channel, 6 output channels, 5x5 convolution kernel\n",
    "net:add(nn.ReLU())                       -- non-linearity \n",
    "net:add(nn.SpatialMaxPooling(2,2,2,2))     -- A max-pooling operation that looks at 2x2 windows and finds the max.\n",
    "net:add(nn.SpatialConvolution(6, 16, 5, 5))\n",
    "net:add(nn.ReLU())                       -- non-linearity \n",
    "net:add(nn.SpatialMaxPooling(2,2,2,2))\n",
    "net:add(nn.View(16*5*5))                    -- reshapes from a 3D tensor of 16x5x5 into 1D tensor of 16*5*5\n",
    "net:add(nn.Linear(16*5*5, 120))             -- fully connected layer (matrix multiplication between input and weights)\n",
    "net:add(nn.ReLU())                       -- non-linearity \n",
    "net:add(nn.Linear(120, 84))\n",
    "net:add(nn.ReLU())                       -- non-linearity \n",
    "net:add(nn.Linear(84, 10))                   -- 10 is the number of outputs of the network (in this case, 10 digits)\n",
    "net:add(nn.LogSoftMax())                     -- converts the output to a log-probability. Useful for classification problems\n",
    "\n",
    "print('Lenet5\\n' .. net:__tostring());"
   ]
  },
  {
   "cell_type": "markdown",
   "metadata": {},
   "source": [
    "`nn.Sequential`이외에 다른 Container 들은 다음과 같음\n",
    "![containers](https://raw.githubusercontent.com/soumith/ex/gh-pages/assets/nn_containers.png)\n",
    "\n",
    "* Torch의 강점 중 하나는 Automatic differentiation을 지원한다는 것임\n",
    "* `:forward(input)` 으로 입력에 대한 출력이 만들어지면, `:backward(input, gradient)` 가 각 neuron 에 대한 gradient를 chain rule을 이용해 계산함 "
   ]
  },
  {
   "cell_type": "code",
   "execution_count": 18,
   "metadata": {
    "collapsed": false
   },
   "outputs": [],
   "source": [
    "input = torch.rand(1,32,32) -- pass a random tensor as input to the network"
   ]
  },
  {
   "cell_type": "code",
   "execution_count": 19,
   "metadata": {
    "collapsed": false
   },
   "outputs": [],
   "source": [
    "output = net:forward(input)"
   ]
  },
  {
   "cell_type": "code",
   "execution_count": 20,
   "metadata": {
    "collapsed": false
   },
   "outputs": [
    {
     "data": {
      "text/plain": [
       "-2.2725\n",
       "-2.3610\n",
       "-2.3488\n",
       "-2.3837\n",
       "-2.2740\n",
       "-2.2976\n",
       "-2.2815\n",
       "-2.3227\n",
       "-2.2194\n",
       "-2.2759\n",
       "[torch.DoubleTensor of size 10]\n",
       "\n"
      ]
     },
     "execution_count": 20,
     "metadata": {},
     "output_type": "execute_result"
    }
   ],
   "source": [
    "print(output)"
   ]
  },
  {
   "cell_type": "code",
   "execution_count": 21,
   "metadata": {
    "collapsed": false
   },
   "outputs": [],
   "source": [
    "net:zeroGradParameters() -- zero the internal gradient buffers of the network (will come to this later)"
   ]
  },
  {
   "cell_type": "code",
   "execution_count": 22,
   "metadata": {
    "collapsed": false
   },
   "outputs": [],
   "source": [
    "gradInput = net:backward(input, torch.rand(10))"
   ]
  },
  {
   "cell_type": "code",
   "execution_count": 23,
   "metadata": {
    "collapsed": false
   },
   "outputs": [
    {
     "data": {
      "text/plain": [
       "(1,.,.) = \n",
       " Columns 1 to 9\n",
       " 0.001 *\n",
       "  -0.0448 -0.0584 -0.0439 -0.0491  0.0042  0.1355 -0.0019  0.0447  0.1023\n",
       "  -0.0409  0.0835 -0.0830  0.0000 -0.1012  0.1667 -0.0255  0.0878  0.2118\n",
       "   0.0956 -0.0841  0.0625  0.1702 -0.1328  0.2736  0.6494  0.0255  0.1920\n",
       "  -0.0852  0.1145 -0.0954 -0.2198 -0.4867 -0.2503 -0.5757  0.3458 -0.6753\n",
       "   0.0960 -0.0355 -0.0540 -0.3187  0.0541  0.0101  0.1017 -0.2545  0.2813\n",
       "  -0.0390 -0.1128 -0.1158 -0.1454 -0.3381  0.2238  0.8395 -0.3776 -0.0951\n",
       "   0.1930  0.0527  0.0165  0.2686  0.3039  1.2207  1.2266  0.6593 -0.1190\n",
       "   0.0511 -0.0070  0.4464 -0.7620  1.1348  0.3892  0.7438 -1.0210  1.3416\n",
       "   0.1735  0.1141  0.4899 -0.4644  0.6696 -0.1072 -1.2110 -0.7979 -1.9625\n",
       "  -0.2664  0.1398  0.2813 -0.4582 -0.1496 -0.3395  0.0838  0.5863  0.9613\n",
       "  -0.0657  0.2303  0.4343  0.5744  1.2083  0.0264 -0.2802  0.4779  0.0685\n",
       "  -0.0079 -0.0439  0.7214 -0.0511 -0.9546  1.4145 -0.4541  0.0529 -0.3971\n",
       "  -0.0991  0.0472  0.1044  0.7066 -0.7394  0.0747 -1.5583 -1.3038  1.4084\n",
       "  -0.0633  0.0254 -0.0168  0.3651 -0.4532 -0.7613 -0.8229  0.0725  0.1255\n",
       "   0.0634  0.2129 -0.0960  0.3105  0.4892 -0.4925  0.3387  1.1261  1.3814\n",
       "  -0.1191  0.3304  0.4305  0.9818 -0.2003  0.5313  0.2634  1.8364  1.3911\n",
       "   0.2284  0.1330 -0.5473 -0.0186  0.2338  0.7091 -0.0604  0.0328 -0.3575\n",
       "  -0.0480  0.0368  0.3872 -1.1979 -0.6447 -0.1031 -0.2869  0.0272 -2.7408\n",
       "   0.1558 -0.0054  0.4045 -0.2033  0.7985  1.4488  0.2490 -0.6111 -1.0141\n",
       "   0.3212 -0.0041  0.5146  0.0913  0.5222  1.3297  0.3801 -0.3418 -1.0119\n",
       "   0.2697  0.4007 -0.3243 -0.1303  0.0423  0.9063 -0.2904  0.0571 -0.0404\n",
       "  -0.1374 -0.4556  0.1765 -0.6128  0.7403  1.0772  0.1612  0.1838 -0.3219\n",
       "   0.0609  0.1528  0.2347 -0.7228 -0.6160  0.0463 -0.6978  1.8651 -0.6426\n",
       "   0.0888  0.3467 -0.1005 -0.2726 -0.2864 -0.3975  0.0401 -0.2672  0.9733\n",
       "   0.0405 -0.1797  0.6269 -0.4740 -0.4231 -0.3213  0.9391 -0.6755 -1.0435\n",
       "   0.1425  0.0964  0.0218  0.4739 -0.8025  1.3976  0.9226 -0.0712 -0.1224\n",
       "   0.2407  0.2936  0.0065  0.2266  0.8745  0.1839  0.0735 -0.2419 -1.0401\n",
       "   0.1705  0.1705 -0.2017 -0.5619 -0.4716  0.5256 -0.3720 -0.0178 -0.5163\n",
       "  -0.1330  0.1189 -0.2140  0.0105 -0.5663  0.1668 -0.0421  0.0297 -0.7214\n",
       "   0.0735 -0.2048 -0.1079  0.2690  0.2846 -0.0763  0.6473 -0.0336 -0.0512\n",
       "   0.1568 -0.0893 -0.0617  0.0462  0.0310  0.0151  0.0047  0.0996 -0.2950\n",
       "   0.0949  0.0780 -0.0437  0.1458  0.0232  0.0297  0.0128  0.0333 -0.4285\n",
       "\n",
       "Columns 10 to 18\n",
       " 0.001 *\n",
       "  -0.0376 -0.3469  0.2691  0.1719  0.4963  0.2738 -0.4508  0.4916 -0.0508\n",
       "   0.3717  0.1854  0.8797 -0.9600 -0.3356  0.0831 -0.1051  0.6192 -0.0088\n",
       "   0.4765 -0.3206 -0.4630  0.0190 -0.1285 -0.4192 -0.1215  0.3863  0.2820\n",
       "  -0.5395 -1.4228 -0.1153 -0.4300 -0.3138  0.2957 -0.4045  0.2704 -0.2813\n",
       "  -0.9786  0.8040 -0.6128  0.2495  0.4144  1.2886 -0.7285  0.9832 -0.4867\n",
       "  -0.6151 -1.4170 -0.0131  0.0460  0.4555 -0.2054  0.0722  0.7456  0.5166\n",
       "   0.5259  1.0600  0.0004  0.1906 -1.3589 -0.2876 -0.2606  0.3530 -1.2277\n",
       "  -0.2430  0.3319  0.8478  1.7961 -1.3241 -0.6728 -1.2991  0.5894 -1.3472\n",
       "  -0.6433 -1.6030  0.3191 -0.0726 -0.7448  0.4973 -0.9100  0.2299 -0.1072\n",
       "   0.3377 -0.4887 -0.6057 -2.1523  0.9051  1.3136  1.7978 -0.3244  0.4546\n",
       "   1.5133 -1.7016  0.5858 -1.1096 -0.5342 -1.8852 -0.1128 -0.6771 -1.1584\n",
       "  -0.2685 -2.5307 -0.5446 -0.2370  2.5916 -0.3128 -1.6127 -0.3247 -1.3867\n",
       "  -2.2244 -1.3112 -1.1518 -1.4487  0.9783 -0.1006  1.5784  1.0710 -0.0113\n",
       "   1.1333  0.1692 -2.0663  0.0752 -0.4247  0.2449 -1.7753 -0.4551  0.6602\n",
       "   0.1611 -1.5499  0.2624 -0.2617 -0.3452 -0.6484  1.8617 -0.5617 -0.5595\n",
       "   1.5699 -1.3261 -0.3336 -0.6515  0.9735  0.7783  0.3727 -0.9418  0.5174\n",
       "   0.1038 -0.7899  1.8003 -0.1168  2.2478  0.3746 -0.9284 -0.2420 -0.5216\n",
       "  -1.4780  0.7600 -1.2325 -1.2151  1.1253  0.4432 -1.0512  0.6495 -0.3461\n",
       "   0.6941 -1.7284 -0.9996  3.3517  1.3815 -0.4740  0.7418  0.5605  1.3298\n",
       "   1.8851  0.2733 -0.6520  0.3088 -0.6202 -0.5928 -0.1654  1.1073 -0.3373\n",
       "  -1.0472 -1.3750 -0.8565  1.3952  0.5009  0.4607 -1.2771  0.8886 -1.6428\n",
       "  -0.4399 -1.8018  0.5479 -0.7045 -0.5247 -1.2112 -1.4237  1.2401 -0.3039\n",
       "   0.9684 -1.2300 -0.5294  1.3105  1."
      ]
     },
     "execution_count": 23,
     "metadata": {},
     "output_type": "execute_result"
    },
    {
     "data": {
      "text/plain": [
       "3978 -0.0363  0.8229 -0.3973 -0.7415\n",
       "  -0.2782  2.1339  0.0895  0.2100 -0.3084 -0.2750  0.4957  0.7998  0.2988\n",
       "  -0.8207 -0.6641  0.7311  0.9834 -0.2829  0.6737 -1.2652  0.5622  1.3627\n",
       "  -0.1234 -0.2036  0.6272  1.5051  1.8840  1.3162  0.3539  0.1547 -0.8427\n",
       "   0.3925 -1.4861 -0.2357 -0.6001 -1.4271  0.3501 -0.4006  0.5740 -1.4455\n",
       "   0.2117  0.1008  0.5272 -0.0289  0.3144 -1.3347 -0.5638 -0.8242 -0.1101\n",
       "  -0.0544 -0.5265 -0.3882 -0.2068  0.4610  1.4289  0.1382 -0.4000  0.5953\n",
       "   0.3375 -0.2476  0.0564 -0.1705  1.0415  0.8481  0.5413  1.0130  0.5029\n",
       "   0.4323  0.1724 -0.1367 -0.2635  0.3015  0.2114  0.1886  0.5798  0.5922\n",
       "  -0.2048 -0.0307 -0.3006 -0.0974  0.1937  0.0393 -0.0449 -0.1583  0.0925\n",
       "\n",
       "Columns 19 to 27\n",
       " 0.001 *\n",
       "   0.4649  0.1493 -0.2232 -0.4798 -0.2574  0.0675  0.1638  0.1517 -0.0849\n",
       "  -0.3148 -0.5883 -0.6775  0.4054  0.0559  0.2404 -0.1507 -0.2699  0.4257\n",
       "   1.1817  0.2259  0.3470 -0.9164  0.2112 -0.0085  0.1581  0.2175  0.5427\n",
       "   0.4445 -0.6992 -0.6230  1.2015  0.3157 -0.2986 -0.6078 -1.1865 -0.2368\n",
       "  -0.8461 -0.3191  0.8806 -1.4981  0.7917 -0.3727  0.3745 -0.7272 -0.2361\n",
       "   2.2429 -1.7206  1.2741 -1.2345 -0.5648 -0.8660  0.2596  1.4222 -0.5434\n",
       "   0.4743  0.3278  2.7887 -0.0089 -0.4682 -0.6260  1.2391 -0.5113  1.5421\n",
       "  -0.9480 -0.0050  1.2561  0.7694 -0.1324  0.9458  0.3523  1.3129 -1.8247\n",
       "  -0.6126 -0.7224  0.1409  0.0258 -0.0039  0.3766  1.0083 -1.1311  0.5756\n",
       "   1.5987  0.1168  0.2169  0.3233  1.7534  0.6968 -0.4087  1.3443 -0.4007\n",
       "   0.1060  0.0920  1.5961 -1.3150  0.7325  0.0598 -0.0744 -1.8839 -0.3106\n",
       "  -1.6742 -0.5706  0.7131  0.4844 -0.1433  0.1655 -0.9694  0.7824 -0.1023\n",
       "   1.6457 -2.5253 -0.7279 -0.1009 -0.8275  0.5346  0.5100  0.2495  0.5262\n",
       "   0.0385 -0.4065  0.0560 -0.9158 -0.8304  0.3810 -0.2902 -2.2253 -0.9030\n",
       "  -1.8724 -0.4996 -1.9690 -0.7654  1.1901  1.5206  0.3600  0.6414  0.1893\n",
       "   0.9311  0.5804 -1.0251 -0.3407  1.5294 -0.7200 -0.5697  0.0365 -0.5786\n",
       "  -0.6694 -0.4648 -1.4792  1.3323  0.4592 -1.4207  0.5518 -0.9871  1.5181\n",
       "   0.9265 -1.5879  0.2319 -1.0698 -0.3084 -2.3003 -1.0470 -0.9862 -0.1892\n",
       "   0.6529  0.4204  0.1465  1.6554  1.5703  0.2501 -0.7918 -0.3514  0.9777\n",
       "  -1.0302  0.1915 -1.0129 -0.4423  1.4650 -0.1559  0.1621  1.8936  1.9092\n",
       "  -0.3525 -0.4684  2.9511 -2.1197 -1.3117 -0.9119  0.7966 -2.2298 -0.6080\n",
       "  -1.3843 -0.9045  0.0752  1.0330  0.0091 -0.0706 -1.1134 -0.9069 -1.5664\n",
       "   2.5998  1.7434 -0.3639 -2.5806 -0.5601 -0.0618  1.2110 -0.3746 -1.4948\n",
       "   0.8592  2.1424  0.0097 -0.3421 -1.1164  0.3693  0.1928  1.0878  1.1351\n",
       "   1.8158  2.5511  2.4834 -1.4356  0.0867  0.1754  1.4121  0.4560  0.2679\n",
       "   0.8983 -0.3897 -1.4097  1.1796 -0.6020 -0.2285 -0.3317 -0.6061  0.7776\n",
       "   1.7408  0.6258 -1.4078  0.3582 -0.4157 -0.2018  0.1698 -0.3846 -0.2859\n",
       "   0.7053 -0.5964 -0.9153 -0.8296 -0.8218  0.3327  0.3191  0.9305  0.6400\n",
       "   0.9276 -0.3921  0.0312 -0.2945  0.2017 -0.2058 -0.0484 -0.7635  0.1539\n",
       "   0.5805 -0.0122 -0.3308  0.6229 -0.8722 -0.2147  0.4456  0.8142 -0.3946\n",
       "   0.0055  0.1914 -0.3015  0.5136 -0.2926  0.0434  0.3766  0.4529  0.7832\n",
       "  -0.0598 -0.1501  0.0400  0.2770  0.2127 -0.3817  0.1502  0.0790 -0.1310\n",
       "\n",
       "Columns 28 to 32\n",
       " 0.001 *\n",
       "   0.0366  0.0903 -0.0715  0.0000  0.0000\n",
       "  -0.1499  0.1900 -0.0188  0.0000  0.0000\n",
       "  -1.0308 -0.1885 -0.4457 -0.0815  0.0719\n",
       "  -0.0870 -0.0238  0.3134 -0.0256 -0.0549\n",
       "  -0.3061  0.6104 -0.1385  0.1817  0.2145\n",
       "   0.2357  0.5321  0.4920  0.0516 -0.1322\n",
       "   0.4329  0.7113 -0.1761 -0.0462 -0.1615\n",
       "  -0.1722  0.1519  0.4590 -0.2443 -0.1811\n",
       "   0.1191  0.9997 -0.0472 -0.4436  0.0907\n",
       "  -0.7866 -0.2541 -0.4048  0.5840  0.0098\n",
       "  -0.2342  0.6576  0.1123 -0.2309 -0.0154\n",
       "  -0.2706  1.1083  0.6971  0.0773 -0.0326\n",
       "   0.3225  1.8573 -0.5062 -0.0089  0.2764\n",
       "  -1.0823 -0.3632 -0.4365 -0.0555 -0.2258\n",
       "  -2.0352 -0.9116  0.3853  0.5590  0.2481\n",
       "  -1.1978  0.1613  0.9749 -0.7225 -0.2572\n",
       "  -1.9844  0.2115 -0.7628 -0.2416 -0.2838\n",
       "   0.7669 -0.2887 -0.3434 -0.4836 -0.0840\n",
       "  -0.1759 -0.4843 -0.6209  0.6055  0.1563\n",
       "  -0.1607  1.0223 -1.1586  0.3078 -0.2785\n",
       "  -0.4799 -0.8612  0.4889 -0.1718  0.3413\n",
       "   0.3108  0.0042  0.4208 -0.6336  0.0179\n",
       "   0.2995 -0.3819  0.1781 -0.0552 -0.1696\n",
       "  -0."
      ]
     },
     "execution_count": 23,
     "metadata": {},
     "output_type": "execute_result"
    },
    {
     "data": {
      "text/plain": [
       "1107  0.3594 -0.1496 -0.1685 -0.0385\n",
       "   0.8805 -0.3210  0.0094 -0.0597  0.1190\n",
       "  -0.9675  0.5380  0.9536 -0.4890  0.0806\n",
       "  -0.8933 -0.2639 -0.2583 -0.2746  0.0761\n",
       "   0.3286  0.1363 -0.2435 -0.2969 -0.0755\n",
       "  -0.7129  0.8167 -0.2891  0.1789  0.0295\n",
       "   0.1373 -0.0435 -0.2377 -0.0620  0.0507\n",
       "  -0.0132  0.3105 -0.2884 -0.0692  0.0338\n",
       "   0.4548 -0.0253 -0.0535  0.0272 -0.0075\n",
       "[torch.DoubleTensor of size 1x32x32]\n",
       "\n"
      ]
     },
     "execution_count": 23,
     "metadata": {},
     "output_type": "execute_result"
    }
   ],
   "source": [
    "print(gradInput)\n"
   ]
  },
  {
   "cell_type": "markdown",
   "metadata": {},
   "source": [
    "### Criterion: loss function 정의하기\n",
    "\n",
    "When you want a model to learn to do something, you give it feedback on how well it is doing. This function that computes an objective measure of the model's performance is called a __loss function__.\n",
    "\n",
    "A typical loss function takes in the model's output and the groundtruth and computes a value that quantifies the model's performance.\n",
    "\n",
    "The model then corrects itself to have a smaller loss.\n",
    "\n",
    "In torch, loss functions are implemented just like neural network modules, and have automatic differentiation.  \n",
    "They have two functions - `forward(input, target)`, `backward(input, target)`\n",
    "\n",
    "For example:"
   ]
  },
  {
   "cell_type": "code",
   "execution_count": 24,
   "metadata": {
    "collapsed": false
   },
   "outputs": [],
   "source": [
    "criterion = nn.ClassNLLCriterion() -- a negative log-likelihood criterion for multi-class classification\n",
    "criterion:forward(output, 3) -- let's say the groundtruth was class number: 3\n",
    "gradients = criterion:backward(output, 3)"
   ]
  },
  {
   "cell_type": "code",
   "execution_count": 25,
   "metadata": {
    "collapsed": false
   },
   "outputs": [],
   "source": [
    "gradInput = net:backward(input, gradients)"
   ]
  },
  {
   "cell_type": "markdown",
   "metadata": {},
   "source": [
    "##### Review of what you learnt so far\n",
    "* Network can have many layers of computation\n",
    "* Network takes an input and produces an output in the :forward pass\n",
    "* Criterion computes the loss of the network, and it's gradients w.r.t. the output of the network.\n",
    "* Network takes an (input, gradients) pair in it's backward pass and calculates the gradients w.r.t. each layer (and neuron) in the network.\n",
    "\n",
    "##### Missing details\n",
    "> A neural network layer can have learnable parameters or not.\n",
    "\n",
    "A convolution layer learns it's convolution kernels to adapt to the input data and the problem being solved.  \n",
    "A max-pooling layer has no learnable parameters. It only finds the max of local windows.\n",
    "\n",
    "A layer in torch which has learnable weights, will typically have fields .weight (and optionally, .bias)"
   ]
  },
  {
   "cell_type": "code",
   "execution_count": 26,
   "metadata": {
    "collapsed": false
   },
   "outputs": [
    {
     "data": {
      "text/plain": [
       "(1,1,.,.) = \n",
       " -0.0689 -0.1708\n",
       " -0.1084  0.1469\n",
       "\n",
       "(2,1,.,.) = \n",
       "  0.2324  0.0340\n",
       " -0.4776  0.2998\n",
       "\n",
       "(3,1,.,.) = \n",
       " -0.1402 -0.2379\n",
       "  0.3972  0.0298\n",
       "[torch.DoubleTensor of size 3x1x2x2]\n",
       "\n"
      ]
     },
     "execution_count": 26,
     "metadata": {},
     "output_type": "execute_result"
    }
   ],
   "source": [
    "m = nn.SpatialConvolution(1,3,2,2) -- learn 3 2x2 kernels\n",
    "print(m.weight) -- initially, the weights are randomly initialized"
   ]
  },
  {
   "cell_type": "code",
   "execution_count": 27,
   "metadata": {
    "collapsed": false
   },
   "outputs": [
    {
     "data": {
      "text/plain": [
       " 0.2531\n",
       "-0.1074\n",
       "-0.4534\n",
       "[torch.DoubleTensor of size 3]\n",
       "\n"
      ]
     },
     "execution_count": 27,
     "metadata": {},
     "output_type": "execute_result"
    }
   ],
   "source": [
    "print(m.bias) -- The operation in a convolution layer is: output = convolution(input,weight) + bias"
   ]
  },
  {
   "cell_type": "markdown",
   "metadata": {},
   "source": [
    "There are also two other important fields in a learnable layer. The gradWeight and gradBias.\n",
    "The gradWeight accumulates the gradients w.r.t. each weight in the layer, and the gradBias, w.r.t. each bias in the layer.\n",
    "\n",
    "#### Training the network\n",
    "\n",
    "For the network to adjust itself, it typically does this operation (if you do Stochastic Gradient Descent):\n",
    "> weight = weight + learningRate * gradWeight [equation 1]\n",
    "\n",
    "This update over time will adjust the network weights such that the output loss is decreasing."
   ]
  },
  {
   "cell_type": "markdown",
   "metadata": {},
   "source": [
    "Okay, now it is time to discuss one missing piece. Who visits each layer in your neural network and updates the weight according to Equation 1?\n",
    "\n",
    "There are multiple answers, but we will use the simplest answer.  \n",
    "We shall use the simple SGD trainer shipped with the neural network module: [__nn.StochasticGradient__](https://github.com/torch/nn/blob/master/doc/training.md#stochasticgradientmodule-criterion).\n",
    "\n",
    "It has a function :train(dataset) that takes a given dataset and simply trains your network by showing different samples from your dataset to the network."
   ]
  },
  {
   "cell_type": "markdown",
   "metadata": {},
   "source": [
    "### What about data?\n",
    "Generally, when you have to deal with image, text, audio or video data, you can use standard functions like: [__image.load__](https://github.com/torch/image#res-imageloadfilename-depth-tensortype) or [__audio.load__](https://github.com/soumith/lua---audio#usage) to load your data into a _torch.Tensor_ or a Lua table, as convenient.\n",
    "\n",
    "Let us now use some simple data to train our network.\n",
    "\n",
    "We shall use the CIFAR-10 dataset, which has the classes: 'airplane', 'automobile', 'bird', 'cat', 'deer', 'dog', 'frog', 'horse', 'ship', 'truck'.  \n",
    "The images in CIFAR-10 are of size 3x32x32, i.e. 3-channel color images of 32x32 pixels in size.\n",
    "![CIFAR-10 image](https://raw.githubusercontent.com/soumith/ex/gh-pages/assets/cifar10.png)\n",
    "\n",
    "The dataset has 50,000 training images and 10,000 test images in total.\n",
    "\n",
    "__We now have 5 steps left to do in training our first torch neural network__\n",
    "1. Load and normalize data\n",
    "2. Define Neural Network\n",
    "3. Define Loss function\n",
    "4. Train network on training data\n",
    "5. Test network on test data.\n",
    "\n",
    "__1. Load and normalize data__\n",
    "\n",
    "Today, in the interest of time, we prepared the data before-hand into a 4D torch ByteTensor of size 50000x3x32x32 (training) and 10000x3x32x32 (testing)\n",
    "Let us load the data and inspect it."
   ]
  },
  {
   "cell_type": "code",
   "execution_count": 28,
   "metadata": {
    "collapsed": false
   },
   "outputs": [],
   "source": [
    "require 'paths'\n",
    "if (not paths.filep(\"cifar10torchsmall.zip\")) then\n",
    "    os.execute('wget -c https://s3.amazonaws.com/torch7/data/cifar10torchsmall.zip')\n",
    "    os.execute('unzip cifar10torchsmall.zip')\n",
    "end\n",
    "trainset = torch.load('cifar10-train.t7')\n",
    "testset = torch.load('cifar10-test.t7')\n",
    "classes = {'airplane', 'automobile', 'bird', 'cat',\n",
    "           'deer', 'dog', 'frog', 'horse', 'ship', 'truck'}"
   ]
  },
  {
   "cell_type": "code",
   "execution_count": 29,
   "metadata": {
    "collapsed": false
   },
   "outputs": [
    {
     "data": {
      "text/plain": [
       "{\n",
       "  data : ByteTensor - size: 10000x3x32x32\n",
       "  label : ByteTensor - size: 10000\n",
       "}\n"
      ]
     },
     "execution_count": 29,
     "metadata": {},
     "output_type": "execute_result"
    }
   ],
   "source": [
    "print(trainset)"
   ]
  },
  {
   "cell_type": "code",
   "execution_count": 30,
   "metadata": {
    "collapsed": false
   },
   "outputs": [
    {
     "data": {
      "text/plain": [
       " 10000\n",
       "     3\n",
       "    32\n",
       "    32\n",
       "[torch.LongStorage of size 4]\n",
       "\n"
      ]
     },
     "execution_count": 30,
     "metadata": {},
     "output_type": "execute_result"
    }
   ],
   "source": [
    "print(#trainset.data)"
   ]
  },
  {
   "cell_type": "markdown",
   "metadata": {},
   "source": [
    "For fun, let us display an image:"
   ]
  },
  {
   "cell_type": "code",
   "execution_count": 31,
   "metadata": {
    "collapsed": false
   },
   "outputs": [
    {
     "data": {
      "image/png": "[encoded data removed]",
      "text/plain": [
       "Console does not support images"
      ]
     },
     "metadata": {
      "image/png": {
       "height": 32,
       "width": 32
      }
     },
     "output_type": "display_data"
    },
    {
     "data": {
      "text/plain": [
       "automobile\t\n"
      ]
     },
     "execution_count": 31,
     "metadata": {},
     "output_type": "execute_result"
    }
   ],
   "source": [
    "itorch.image(trainset.data[100]) -- display the 100-th image in dataset\n",
    "print(classes[trainset.label[100]])"
   ]
  },
  {
   "cell_type": "markdown",
   "metadata": {},
   "source": [
    "Now, to prepare the dataset to be used with __nn.StochasticGradient__, a couple of things have to be done according to it's [documentation](https://github.com/torch/nn/blob/master/doc/training.md#traindataset).\n",
    "1. The dataset has to have a :size() function.\n",
    "2. The dataset has to have a [i] index operator, so that dataset[i] returns the ith sample in the datset.\n",
    "\n",
    "Both can be done quickly:"
   ]
  },
  {
   "cell_type": "code",
   "execution_count": 32,
   "metadata": {
    "collapsed": false
   },
   "outputs": [],
   "source": [
    "-- ignore setmetatable for now, it is a feature beyond the scope of this tutorial. It sets the index operator.\n",
    "setmetatable(trainset, \n",
    "    {__index = function(t, i) \n",
    "                    return {t.data[i], t.label[i]} \n",
    "                end}\n",
    ");\n",
    "trainset.data = trainset.data:double() -- convert the data from a ByteTensor to a DoubleTensor.\n",
    "\n",
    "function trainset:size() \n",
    "    return self.data:size(1) \n",
    "end"
   ]
  },
  {
   "cell_type": "code",
   "execution_count": 33,
   "metadata": {
    "collapsed": false
   },
   "outputs": [
    {
     "data": {
      "text/plain": [
       "10000\t\n"
      ]
     },
     "execution_count": 33,
     "metadata": {},
     "output_type": "execute_result"
    }
   ],
   "source": [
    "print(trainset:size()) -- just to test"
   ]
  },
  {
   "cell_type": "code",
   "execution_count": 34,
   "metadata": {
    "collapsed": false
   },
   "outputs": [
    {
     "data": {
      "text/plain": [
       "{\n",
       "  1 : DoubleTensor - size: 3x32x32\n",
       "  2 : 2\n",
       "}\n"
      ]
     },
     "execution_count": 34,
     "metadata": {},
     "output_type": "execute_result"
    },
    {
     "data": {
      "image/png": "[encoded data removed]",
      "text/plain": [
       "Console does not support images"
      ]
     },
     "metadata": {
      "image/png": {
       "height": 32,
       "width": 32
      }
     },
     "output_type": "display_data"
    }
   ],
   "source": [
    "print(trainset[33]) -- load sample number 33.\n",
    "itorch.image(trainset[33][1])"
   ]
  },
  {
   "cell_type": "markdown",
   "metadata": {},
   "source": [
    "__One of the most important things you can do in conditioning your data (in general in data-science or machine learning) is to make your data to have a mean of 0.0 and standard-deviation of 1.0.__\n",
    "\n",
    "Let us do that as a final step of our data processing.\n",
    "\n",
    "To do this, we introduce you to the tensor indexing operator.\n",
    "It is shown by example:"
   ]
  },
  {
   "cell_type": "code",
   "execution_count": 35,
   "metadata": {
    "collapsed": false
   },
   "outputs": [],
   "source": [
    "redChannel = trainset.data[{ {}, {1}, {}, {}  }] -- this picks {all images, 1st channel, all vertical pixels, all horizontal pixels}"
   ]
  },
  {
   "cell_type": "code",
   "execution_count": 36,
   "metadata": {
    "collapsed": false
   },
   "outputs": [
    {
     "data": {
      "text/plain": [
       " 10000\n",
       "     1\n",
       "    32\n",
       "    32\n",
       "[torch.LongStorage of size 4]\n",
       "\n"
      ]
     },
     "execution_count": 36,
     "metadata": {},
     "output_type": "execute_result"
    }
   ],
   "source": [
    "print(#redChannel)"
   ]
  },
  {
   "cell_type": "markdown",
   "metadata": {},
   "source": [
    "In this indexing operator, you initally start with ___[{ }]___. You can pick all elements in a dimension using ___{}___ or pick a particular element using ___{i}___ where ___i___ is the element index. You can also pick a range of elements using ___{i1, i2}___, for example ___{3,5}___ gives us the 3,4,5 elements.\n",
    "\n",
    "__Exercise: Select the 150th to 300th data elements of the data__"
   ]
  },
  {
   "cell_type": "code",
   "execution_count": 37,
   "metadata": {
    "collapsed": false
   },
   "outputs": [],
   "source": [
    "-- TODO: fill"
   ]
  },
  {
   "cell_type": "markdown",
   "metadata": {},
   "source": [
    "Moving back to mean-subtraction and standard-deviation based scaling, doing this operation is simple, using the indexing operator that we learnt above:"
   ]
  },
  {
   "cell_type": "code",
   "execution_count": 38,
   "metadata": {
    "collapsed": false
   },
   "outputs": [
    {
     "data": {
      "text/plain": [
       "Channel 1, Mean: 125.83175029297\t\n"
      ]
     },
     "execution_count": 38,
     "metadata": {},
     "output_type": "execute_result"
    },
    {
     "data": {
      "text/plain": [
       "Channel 1, Standard Deviation: 63.143400842609\t\n"
      ]
     },
     "execution_count": 38,
     "metadata": {},
     "output_type": "execute_result"
    },
    {
     "data": {
      "text/plain": [
       "Channel 2, Mean: 123.26066621094\t\n"
      ]
     },
     "execution_count": 38,
     "metadata": {},
     "output_type": "execute_result"
    },
    {
     "data": {
      "text/plain": [
       "Channel 2, Standard Deviation: 62.369209019002\t\n"
      ]
     },
     "execution_count": 38,
     "metadata": {},
     "output_type": "execute_result"
    },
    {
     "data": {
      "text/plain": [
       "Channel 3, Mean: 114.03068681641\t\n"
      ]
     },
     "execution_count": 38,
     "metadata": {},
     "output_type": "execute_result"
    },
    {
     "data": {
      "text/plain": [
       "Channel 3, Standard Deviation: 66.965808411114\t\n"
      ]
     },
     "execution_count": 38,
     "metadata": {},
     "output_type": "execute_result"
    }
   ],
   "source": [
    "mean = {} -- store the mean, to normalize the test set in the future\n",
    "stdv  = {} -- store the standard-deviation for the future\n",
    "for i=1,3 do -- over each image channel\n",
    "    mean[i] = trainset.data[{ {}, {i}, {}, {}  }]:mean() -- mean estimation\n",
    "    print('Channel ' .. i .. ', Mean: ' .. mean[i])\n",
    "    trainset.data[{ {}, {i}, {}, {}  }]:add(-mean[i]) -- mean subtraction\n",
    "    \n",
    "    stdv[i] = trainset.data[{ {}, {i}, {}, {}  }]:std() -- std estimation\n",
    "    print('Channel ' .. i .. ', Standard Deviation: ' .. stdv[i])\n",
    "    trainset.data[{ {}, {i}, {}, {}  }]:div(stdv[i]) -- std scaling\n",
    "end"
   ]
  },
  {
   "cell_type": "markdown",
   "metadata": {},
   "source": [
    "As you notice, our training data is now normalized and ready to be used.\n",
    "\n",
    "__ 2. Time to define our neural network__\n"
   ]
  },
  {
   "cell_type": "markdown",
   "metadata": {},
   "source": [
    "**Exercise:** Copy the neural network from the __Neural Networks__ section above and modify it to take 3-channel images (instead of 1-channel images as it was defined).  \n",
    "Hint: You only have to change the first layer, change the number 1 to be 3."
   ]
  },
  {
   "cell_type": "code",
   "execution_count": null,
   "metadata": {
    "collapsed": false
   },
   "outputs": [],
   "source": [
    "\n",
    "\n",
    "\n",
    "\n",
    "\n",
    "\n",
    "\n",
    "\n",
    "\n",
    "\n",
    "\n",
    "\n",
    "\n",
    "\n",
    "\n",
    "\n",
    "\n",
    "\n",
    "\n",
    "\n",
    "\n",
    "\n",
    "\n",
    "\n",
    "\n",
    "\n",
    "\n",
    "\n",
    "\n",
    "\n",
    "\n",
    "\n",
    "\n",
    "\n",
    "\n",
    "\n",
    "\n",
    "\n",
    "\n",
    "\n",
    "\n",
    "\n",
    "\n",
    "\n"
   ]
  },
  {
   "cell_type": "markdown",
   "metadata": {},
   "source": [
    "__Solution:__"
   ]
  },
  {
   "cell_type": "code",
   "execution_count": 39,
   "metadata": {
    "collapsed": false
   },
   "outputs": [],
   "source": [
    "net = nn.Sequential()\n",
    "net:add(nn.SpatialConvolution(3, 6, 5, 5)) -- 3 input image channels, 6 output channels, 5x5 convolution kernel\n",
    "net:add(nn.ReLU())                       -- non-linearity \n",
    "net:add(nn.SpatialMaxPooling(2,2,2,2))     -- A max-pooling operation that looks at 2x2 windows and finds the max.\n",
    "net:add(nn.SpatialConvolution(6, 16, 5, 5))\n",
    "net:add(nn.ReLU())                       -- non-linearity \n",
    "net:add(nn.SpatialMaxPooling(2,2,2,2))\n",
    "net:add(nn.View(16*5*5))                    -- reshapes from a 3D tensor of 16x5x5 into 1D tensor of 16*5*5\n",
    "net:add(nn.Linear(16*5*5, 120))             -- fully connected layer (matrix multiplication between input and weights)\n",
    "net:add(nn.ReLU())                       -- non-linearity \n",
    "net:add(nn.Linear(120, 84))\n",
    "net:add(nn.ReLU())                       -- non-linearity \n",
    "net:add(nn.Linear(84, 10))                   -- 10 is the number of outputs of the network (in this case, 10 digits)\n",
    "net:add(nn.LogSoftMax())                     -- converts the output to a log-probability. Useful for classification problems"
   ]
  },
  {
   "cell_type": "markdown",
   "metadata": {},
   "source": [
    "__3. Let us define the Loss function__\n",
    "\n",
    "Let us use a Log-likelihood classification loss. It is well suited for most classification problems."
   ]
  },
  {
   "cell_type": "code",
   "execution_count": 40,
   "metadata": {
    "collapsed": false
   },
   "outputs": [],
   "source": [
    "criterion = nn.ClassNLLCriterion()"
   ]
  },
  {
   "cell_type": "markdown",
   "metadata": {},
   "source": [
    "__4. Train the neural network__\n",
    "\n",
    "This is when things start to get interesting.  \n",
    "Let us first define an __nn.StochasticGradient__ object. Then we will give our dataset to this object's ___:train___ function, and that will get the ball rolling."
   ]
  },
  {
   "cell_type": "code",
   "execution_count": 41,
   "metadata": {
    "collapsed": false
   },
   "outputs": [],
   "source": [
    "trainer = nn.StochasticGradient(net, criterion)\n",
    "trainer.learningRate = 0.001\n",
    "trainer.maxIteration = 5 -- just do 5 epochs of training."
   ]
  },
  {
   "cell_type": "code",
   "execution_count": 42,
   "metadata": {
    "collapsed": false
   },
   "outputs": [
    {
     "data": {
      "text/plain": [
       "{\n",
       "  VolumetricMaxUnpooling : table: 0x40ee60a8\n",
       "  ConcatTable : table: 0x40eef6a8\n",
       "  MV : table: 0x412d8738\n",
       "  SpatialAveragePooling : table: 0x40caf6d8\n",
       "  SpatialConvolutionMM : table: 0x40c9ca88\n",
       "  Reshape : table: 0x41123f60\n",
       "  Jacobian : \n",
       "    {\n",
       "      forward : function: 0x412e0988\n",
       "      testAllUpdate : function: 0x412e0b08\n",
       "      testDiagHessianInput : function: 0x412e0a88\n",
       "      testDiagHessianWeight : function: 0x412e0aa8\n",
       "      testDiagHessianBias : function: 0x412e0ac8\n",
       "      testDiagHessian : function: 0x412e0a68\n",
       "      testJacobian : function: 0x412e0a08\n",
       "      testIO : function: 0x412e0ae8\n",
       "      testJacobianUpdateParameters : function: 0x412e0a48\n",
       "      backwardDiagHessian : function: 0x412e09a8\n",
       "      testJacobianParameters : function: 0x412e0a28\n",
       "      backwardUpdate : function: 0x412e0968\n",
       "      forwardUpdate : function: 0x412e09e8\n",
       "      backward : function: 0x412e0910\n",
       "      linearModuleDiagHessian : function: 0x412e09c8\n",
       "    }\n",
       "  SparseLinear : table: 0x4113b5d8\n",
       "  SoftMarginCriterion : table: 0x41d3b7f8\n",
       "  SpatialCrossMapLRN : table: 0x412acd00\n",
       "  CAddTable : table: 0x4082c0e8\n",
       "  TemporalConvolution : table: 0x40cb1c70\n",
       "  PairwiseDistance : table: 0x41d0b948\n",
       "  WeightedMSECriterion : table: 0x41d4f928\n",
       "  SmoothL1Criterion : table: 0x41d38e18\n",
       "  TemporalSubSampling : table: 0x40caff18\n",
       "  PartialLinear : table: 0x408af9f0\n",
       "  TanhShrink : table: 0x40939e70\n",
       "  MixtureTable : table: 0x40ef8c68\n",
       "  MSECriterion : table: 0x41d37738\n",
       "  LogSoftMax : table: 0x40931520\n",
       "  Identity : table: 0x40efe718\n",
       "  Exp : table: 0x408a9db8\n",
       "  Add : table: 0x416510d0\n",
       "  SpatialConvolutionLocal : table: 0x410f23a8\n",
       "  Squeeze : table: 0x41658470\n",
       "  AbsCriterion : table: 0x41d3ce40\n",
       "  MultiCriterion : table: 0x41d459a8\n",
       "  Max : table: 0x41654068\n",
       "  MulConstant : table: 0x41125630\n",
       "  NarrowTable : table: 0x40efd528\n",
       "  View : table: 0x4165c110\n",
       "  VolumetricConvolution : table: 0x412ba230\n",
       "  SpatialSubSampling : table: 0x40ca2da0\n",
       "  HardTanh : table: 0x4092d7c8\n",
       "  DistKLDivCriterion : table: 0x41d43eb0\n",
       "  SplitTable : table: 0x40ef09b0\n",
       "  DotProduct : table: 0x41d10b28\n",
       "  HingeEmbeddingCriterion : table: 0x41d4a558\n",
       "  SpatialBatchNormalization : table: 0x412b62a8\n",
       "  DepthConcat : table: 0x408b22e0\n",
       "  CMulTable : table: 0x41435ec8\n",
       "  SpatialAdaptiveMaxPooling : table: 0x40cb0ed0\n",
       "  Parallel : table: 0x402ecc18\n",
       "  SoftShrink : table: 0x410d8ae0\n",
       "  SpatialSubtractiveNormalization : table: 0x412a40d0\n",
       "  Log : table: 0x4092c170\n",
       "  VolumetricDropout : table: 0x41545340\n",
       "  SpatialDropout : table: 0x410f5348\n",
       "  LeakyReLU : table: 0x410deda8\n",
       "  VolumetricMaxPooling : table: 0x412b06f8\n",
       "  hessian : \n",
       "    {\n",
       "      enable : function: 0x41c095a0\n",
       "    }\n",
       "  Linear : table: 0x4112c1b8\n",
       "  Euclidean : table: 0x408203c8\n"
      ]
     },
     "execution_count": 42,
     "metadata": {},
     "output_type": "execute_result"
    },
    {
     "data": {
      "text/plain": [
       "  CriterionTable : table: 0x40ef99a0\n",
       "  SpatialMaxPooling : table: 0x40ca58d0\n",
       "  MaskedSelect : table: 0x409263a8\n",
       "  MultiMarginCriterion : table: 0x41d518d8\n",
       "  ELU : table: 0x410e33e8\n",
       "  Threshold : table: 0x410da890\n",
       "  SpatialReflectionPadding : table: 0x412b1728\n",
       "  Copy : table: 0x411387e0\n",
       "  Unsqueeze : table: 0x41134880\n",
       "  VolumetricAveragePooling : table: 0x40ee8110\n",
       "  StochasticGradient : table: 0x412d31f8\n",
       "  SpatialContrastiveNormalization : table: 0x412a9120\n",
       "  Bilinear : table: 0x4113c400\n",
       "  SpatialReplicationPadding : table: 0x412b3b88\n",
       "  Padding : table: 0x41792a78\n",
       "  Container : table: 0x4165ebc8\n",
       "  MarginRankingCriterion : table: 0x41d4fbc0\n",
       "  Module : table: 0x411424b0\n",
       "  VolumetricFullConvolution : table: 0x412a48f8\n",
       "  Concat : table: 0x411262a8\n",
       "  CrossEntropyCriterion : table: 0x412cf028\n",
       "  LookupTable : table: 0x410e7c18\n",
       "  MarginCriterion : table: 0x41d3a328\n",
       "  HardShrink : table: 0x410d7590\n",
       "  Abs : table: 0x4093b0c8\n",
       "  SparseJacobian : \n",
       "    {\n",
       "      forward : function: 0x412e5290\n",
       "      testJacobian : function: 0x412e52d0\n",
       "      testIO : function: 0x412e5330\n",
       "      testAllUpdate : function: 0x412e5350\n",
       "      testJacobianParameters : function: 0x412e52f0\n",
       "      testJacobianUpdateParameters : function: 0x412e5310\n",
       "      forwardUpdate : function: 0x412e52b0\n",
       "      backward : function: 0x412e5218\n",
       "      backwardUpdate : function: 0x412e5270\n",
       "    }\n",
       "  SoftMin : table: 0x40934f30\n",
       "  WeightedEuclidean : table: 0x408171d8\n",
       "  VolumetricBatchNormalization : table: 0x40ee8e78\n",
       "  ClassSimplexCriterion : table: 0x41d421b0\n",
       "  Contiguous : table: 0x414b5a78\n",
       "  FlattenTable : table: 0x40efba38\n",
       "  PReLU : table: 0x410dd670\n",
       "  utils : \n",
       "    {\n",
       "      contiguousView : function: 0x41656900\n",
       "      recursiveType : function: 0x40f6f1d0\n",
       "      recursiveCopy : function: 0x416567f8\n",
       "      recursiveResizeAs : function: 0x40a09900\n",
       "      recursiveAdd : function: 0x40a098c8\n",
       "      clear : function: 0x40a09940\n",
       "      addSingletonDimension : function: 0x416568e0\n",
       "      recursiveFill : function: 0x40a09920\n",
       "    }\n",
       "  JoinTable : table: 0x40ef3250\n",
       "  ClassNLLCriterion : table: 0x41d3f2b8\n",
       "  CMul : table: 0x40f82600\n",
       "  CosineDistance : table: 0x41d0f2b8\n",
       "  Index : table: 0x408ba228\n",
       "  Mean : table: 0x40f6d948\n",
       "  Dropout : table: 0x4142ddb0\n",
       "  SoftPlus : table: 0x40936410\n",
       "  SpatialDivisiveNormalization : table: 0x412a8030\n",
       "  L1Penalty : table: 0x41d3a658\n",
       "  test : function: 0x408afe40\n",
       "  Power : table: 0x4093c498\n",
       "  Sqrt : table: 0x4092b908\n",
       "  Sequential : table: 0x40a06af0\n",
       "  MM : table: 0x412d5ac0\n",
       "  ParallelCriterion : table: 0x412d11c0\n",
       "  Square : table: 0x4093d820\n",
       "  BCECriterion : table: 0x412cde80\n",
       "  L1Cost : table: 0x41d36d00\n",
       "  MultiLabelSoftMarginCriterion : table: 0x41d54668\n",
       "  MultiLabelMarginCriterion : table: 0x41d52c48\n",
       "  SoftMax : table: 0x40933a28\n",
       "  CosineEmbeddingCriterion : table: 0x41d4de70\n",
       "  Cosine : table: 0x4081b6c8\n",
       "  Clamp : table: 0x4092e6e8\n",
       "  L1HingeEmbeddingCriterion : table: 0x41d47a78\n",
       "  SelectTable : table: 0x40ef4a38\n",
       "  CDivTable : table: 0x41546680\n",
       "  TemporalMaxPooling : table: 0x412a0af8\n",
       "  LogSigmoid : table: 0x4092ff78\n",
       "  Sum : table: 0x41791958\n",
       "  SoftSign : table: 0x40937890\n",
       "  CSubTable : table: 0x4081ee50\n",
       "  SpatialUpSamplingNearest : table: 0x412b56c8\n",
       "  Mul : table: 0x41781ac0\n",
       "  AddConstant : table: 0x41779aa8\n",
       "  Tanh : table: 0x40938a80\n",
       "  Replicate : table: 0x4142f358\n",
       "  BatchNormalization : table: 0x4112e1f8\n",
       "  Select : table: 0x414c49f0\n",
       "  SpatialLPPooling : table: 0x40caccd8\n",
       "  Sigmoid : table: 0x40932838\n",
       "  GradientReversal : table: 0x4113e970\n",
       "  SpatialConvolution : table: 0x410ec9e0\n",
       "  Criterion : table: 0x41d35d18\n",
       "  SpatialConvolutionMap : table: 0x40ca0e50\n",
       "  ReLU : table: 0x410db8b8\n",
       "  SpatialFullConvolutionMap : table: 0x40c98c30\n",
       "  tables : \n",
       "    {\n",
       "      full : function: 0x40ca0f18\n",
       "      oneToOne : function: 0x40ca0f38\n",
       "      random : function: 0x40ca0f58\n",
       "    }\n",
       "  SpatialMaxUnpooling : table: 0x40ca7730\n",
       "  SpatialFullConvolution : table: 0x410e6418\n",
       "  Transpose : table: 0x40a09078\n",
       "  RReLU : table: 0x410e1c88\n",
       "  SpatialZeroPadding : table: 0x412b0048\n",
       "  Min : table: 0x4164e5a8\n",
       "  Narrow : table: 0x40a13598\n"
      ]
     },
     "execution_count": 42,
     "metadata": {},
     "output_type": "execute_result"
    },
    {
     "data": {
      "text/plain": [
       "  Normalize : table: 0x41d14958\n",
       "  ParallelTable : table: 0x40eebb70\n",
       "  SpatialSoftMax : table: 0x410e0038\n",
       "  SpatialFractionalMaxPooling : table: 0x40cab290\n",
       "}\n"
      ]
     },
     "execution_count": 42,
     "metadata": {},
     "output_type": "execute_result"
    }
   ],
   "source": [
    "nn"
   ]
  },
  {
   "cell_type": "code",
   "execution_count": null,
   "metadata": {
    "collapsed": false
   },
   "outputs": [
    {
     "data": {
      "text/plain": [
       "# StochasticGradient: training\t\n"
      ]
     },
     "execution_count": 43,
     "metadata": {},
     "output_type": "execute_result"
    }
   ],
   "source": [
    "trainer:train(trainset)"
   ]
  },
  {
   "cell_type": "markdown",
   "metadata": {},
   "source": [
    "__5. Test the network, print accuracy__\n",
    "\n",
    "We have trained the network for 2 passes over the training dataset.  \n",
    "But we need to check if the network has learnt anything at all.  \n",
    "We will check this by predicting the class label that the neural network outputs, and checking it against the ground-truth. If the prediction is correct, we add the sample to the list of correct predictions."
   ]
  },
  {
   "cell_type": "markdown",
   "metadata": {},
   "source": [
    "Okay, first step. Let us display an image from the test set to get familiar."
   ]
  },
  {
   "cell_type": "code",
   "execution_count": null,
   "metadata": {
    "collapsed": false
   },
   "outputs": [],
   "source": [
    "print(classes[testset.label[100]])\n",
    "itorch.image(testset.data[100])"
   ]
  },
  {
   "cell_type": "markdown",
   "metadata": {},
   "source": [
    "Now that we are done with that, let us normalize the test data with the mean and standard-deviation from the training data."
   ]
  },
  {
   "cell_type": "code",
   "execution_count": null,
   "metadata": {
    "collapsed": false
   },
   "outputs": [],
   "source": [
    "testset.data = testset.data:double()   -- convert from Byte tensor to Double tensor\n",
    "for i=1,3 do -- over each image channel\n",
    "    testset.data[{ {}, {i}, {}, {}  }]:add(-mean[i]) -- mean subtraction    \n",
    "    testset.data[{ {}, {i}, {}, {}  }]:div(stdv[i]) -- std scaling\n",
    "end"
   ]
  },
  {
   "cell_type": "code",
   "execution_count": null,
   "metadata": {
    "collapsed": false
   },
   "outputs": [],
   "source": [
    "-- for fun, print the mean and standard-deviation of example-100\n",
    "horse = testset.data[100]\n",
    "print(horse:mean(), horse:std())"
   ]
  },
  {
   "cell_type": "markdown",
   "metadata": {},
   "source": [
    "Okay, now let us see what the neural network thinks these examples above are:"
   ]
  },
  {
   "cell_type": "code",
   "execution_count": null,
   "metadata": {
    "collapsed": false
   },
   "outputs": [],
   "source": [
    "print(classes[testset.label[100]])\n",
    "itorch.image(testset.data[100])\n",
    "predicted = net:forward(testset.data[100])"
   ]
  },
  {
   "cell_type": "code",
   "execution_count": null,
   "metadata": {
    "collapsed": false
   },
   "outputs": [],
   "source": [
    "-- the output of the network is Log-Probabilities. To convert them to probabilities, you have to take e^x \n",
    "print(predicted:exp())"
   ]
  },
  {
   "cell_type": "markdown",
   "metadata": {},
   "source": [
    "You can see the network predictions. The network assigned a probability to each classes, given the image.\n",
    "\n",
    "To make it clearer, let us tag each probability with it's class-name:"
   ]
  },
  {
   "cell_type": "code",
   "execution_count": null,
   "metadata": {
    "collapsed": false
   },
   "outputs": [],
   "source": [
    "for i=1,predicted:size(1) do\n",
    "    print(classes[i], predicted[i])\n",
    "end"
   ]
  },
  {
   "cell_type": "markdown",
   "metadata": {},
   "source": [
    "Alright, fine. One single example sucked, but how many in total seem to be correct over the test set?"
   ]
  },
  {
   "cell_type": "code",
   "execution_count": null,
   "metadata": {
    "collapsed": false
   },
   "outputs": [],
   "source": [
    "correct = 0\n",
    "for i=1,10000 do\n",
    "    local groundtruth = testset.label[i]\n",
    "    local prediction = net:forward(testset.data[i])\n",
    "    local confidences, indices = torch.sort(prediction, true)  -- true means sort in descending order\n",
    "    if groundtruth == indices[1] then\n",
    "        correct = correct + 1\n",
    "    end\n",
    "end"
   ]
  },
  {
   "cell_type": "code",
   "execution_count": null,
   "metadata": {
    "collapsed": false
   },
   "outputs": [],
   "source": [
    "print(correct, 100*correct/10000 .. ' % ')"
   ]
  },
  {
   "cell_type": "markdown",
   "metadata": {},
   "source": [
    "That looks waaay better than chance, which is 10% accuracy (randomly picking a class out of 10 classes). Seems like the network learnt something.\n",
    "\n",
    "Hmmm, what are the classes that performed well, and the classes that did not perform well:"
   ]
  },
  {
   "cell_type": "code",
   "execution_count": null,
   "metadata": {
    "collapsed": false
   },
   "outputs": [],
   "source": [
    "class_performance = {0, 0, 0, 0, 0, 0, 0, 0, 0, 0}\n",
    "for i=1,10000 do\n",
    "    local groundtruth = testset.label[i]\n",
    "    local prediction = net:forward(testset.data[i])\n",
    "    local confidences, indices = torch.sort(prediction, true)  -- true means sort in descending order\n",
    "    if groundtruth == indices[1] then\n",
    "        class_performance[groundtruth] = class_performance[groundtruth] + 1\n",
    "    end\n",
    "end"
   ]
  },
  {
   "cell_type": "code",
   "execution_count": null,
   "metadata": {
    "collapsed": false
   },
   "outputs": [],
   "source": [
    "for i=1,#classes do\n",
    "    print(classes[i], 100*class_performance[i]/1000 .. ' %')\n",
    "end"
   ]
  },
  {
   "cell_type": "markdown",
   "metadata": {},
   "source": [
    "Okay, so what next? How do we run this neural network on GPUs?\n",
    "\n",
    "#### cunn: neural networks on GPUs using CUDA"
   ]
  },
  {
   "cell_type": "code",
   "execution_count": null,
   "metadata": {
    "collapsed": false
   },
   "outputs": [],
   "source": [
    "require 'cunn';"
   ]
  },
  {
   "cell_type": "markdown",
   "metadata": {},
   "source": [
    "The idea is pretty simple. Take a neural network, and transfer it over to GPU:"
   ]
  },
  {
   "cell_type": "code",
   "execution_count": null,
   "metadata": {
    "collapsed": false
   },
   "outputs": [],
   "source": [
    "net = net:cuda()"
   ]
  },
  {
   "cell_type": "markdown",
   "metadata": {},
   "source": [
    "Also, transfer the criterion to GPU:"
   ]
  },
  {
   "cell_type": "code",
   "execution_count": null,
   "metadata": {
    "collapsed": false
   },
   "outputs": [],
   "source": [
    "criterion = criterion:cuda()"
   ]
  },
  {
   "cell_type": "markdown",
   "metadata": {},
   "source": [
    "Ok, now the data:"
   ]
  },
  {
   "cell_type": "code",
   "execution_count": null,
   "metadata": {
    "collapsed": false
   },
   "outputs": [],
   "source": [
    "trainset.data = trainset.data:cuda()\n",
    "trainset.label = trainset.label:cuda()"
   ]
  },
  {
   "cell_type": "markdown",
   "metadata": {},
   "source": [
    "Okay, let's train on GPU :) #sosimple"
   ]
  },
  {
   "cell_type": "code",
   "execution_count": null,
   "metadata": {
    "collapsed": false
   },
   "outputs": [],
   "source": [
    "trainer = nn.StochasticGradient(net, criterion)\n",
    "trainer.learningRate = 0.001\n",
    "trainer.maxIteration = 5 -- just do 5 epochs of training."
   ]
  },
  {
   "cell_type": "code",
   "execution_count": null,
   "metadata": {
    "collapsed": false
   },
   "outputs": [],
   "source": [
    "trainer:train(trainset)"
   ]
  },
  {
   "cell_type": "markdown",
   "metadata": {},
   "source": [
    "Why dont I notice MASSIVE speedup compared to CPU?\n",
    "Because your network is realllly small. \n",
    "\n",
    "**Exercise:** Try increasing the size of your network (argument 1 and 2 of nn.SpatialConvolution(...), see what kind of speedup you get."
   ]
  },
  {
   "cell_type": "markdown",
   "metadata": {},
   "source": [
    "**Goals achieved:**\n",
    "* Understand torch and the neural networks package at a high-level.\n",
    "* Train a small neural network on CPU and GPU"
   ]
  },
  {
   "cell_type": "markdown",
   "metadata": {},
   "source": [
    "### Where do I go next?"
   ]
  },
  {
   "cell_type": "markdown",
   "metadata": {},
   "source": [
    "* Build crazy graphs of networks: https://github.com/torch/nngraph\n",
    "* Train on imagenet with multiple GPUs: https://github.com/soumith/imagenet-multiGPU.torch\n",
    "* Train recurrent networks with LSTM on text: https://github.com/wojzaremba/lstm\n",
    "\n",
    "* More demos and tutorials: https://github.com/torch/torch7/wiki/Cheatsheet\n",
    "\n",
    "* Chat with developers of Torch: http://gitter.im/torch/torch7\n",
    "* Ask for help: http://groups.google.com/forum/#!forum/torch7\n"
   ]
  },
  {
   "cell_type": "code",
   "execution_count": null,
   "metadata": {
    "collapsed": false
   },
   "outputs": [],
   "source": []
  }
 ],
 "metadata": {
  "kernelspec": {
   "display_name": "iTorch",
   "language": "lua",
   "name": "itorch"
  },
  "language_info": {
   "name": "lua",
   "version": "5.1"
  }
 },
 "nbformat": 4,
 "nbformat_minor": 0
}
