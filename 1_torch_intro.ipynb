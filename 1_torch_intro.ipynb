{
 "cells": [
  {
   "cell_type": "markdown",
   "metadata": {},
   "source": [
    "# 딥러닝 라이브러리 실습: Torch의 이해 및 실습"
   ]
  },
  {
   "cell_type": "markdown",
   "metadata": {},
   "source": [
    "\n",
    "### 실습 목표\n",
    "\n",
    "* Torch와 nn 패키지의 이해\n",
    "* 작은 Neural network 를 CPU에서 학습 및 실험"
   ]
  },
  {
   "cell_type": "markdown",
   "metadata": {},
   "source": [
    "## 시작에 앞서"
   ]
  },
  {
   "cell_type": "markdown",
   "metadata": {},
   "source": [
    "* Torch는 `Lua` 를 사용하여 코딩함\n",
    "* `Lua`는 `Javascript`와 유사한 면을 지니며, 변수는 global이 default로, `local`이라는 키워드로 로컬변수 설정이 가능\n",
    "* 1-based indexing.\n",
    "* Function call `foo.bar()`는 Lua에서 `foo:bar()`로 쓰임\n",
    "* Python에서의 `import`, C에서 `include` 처럼 외부 라이브러리를 포함시키는 명령어는 `require`임\n"
   ]
  },
  {
   "cell_type": "markdown",
   "metadata": {},
   "source": [
    "## 0. Lua: 기본 사용법\n",
    "#### Strings, numbers, and tables"
   ]
  },
  {
   "cell_type": "code",
   "execution_count": null,
   "metadata": {
    "collapsed": false
   },
   "outputs": [],
   "source": [
    "a = 'hello'"
   ]
  },
  {
   "cell_type": "code",
   "execution_count": null,
   "metadata": {
    "collapsed": false
   },
   "outputs": [],
   "source": [
    "print(a)"
   ]
  },
  {
   "cell_type": "code",
   "execution_count": null,
   "metadata": {
    "collapsed": false
   },
   "outputs": [],
   "source": [
    "b = {}"
   ]
  },
  {
   "cell_type": "code",
   "execution_count": null,
   "metadata": {
    "collapsed": false
   },
   "outputs": [],
   "source": [
    "b[1] = a"
   ]
  },
  {
   "cell_type": "code",
   "execution_count": null,
   "metadata": {
    "collapsed": false
   },
   "outputs": [],
   "source": [
    "print(b)"
   ]
  },
  {
   "cell_type": "code",
   "execution_count": null,
   "metadata": {
    "collapsed": false
   },
   "outputs": [],
   "source": [
    "b[2] = 30"
   ]
  },
  {
   "cell_type": "code",
   "execution_count": null,
   "metadata": {
    "collapsed": false
   },
   "outputs": [],
   "source": [
    "for i=1,#b do -- the # operator is the length operator in Lua\n",
    "    print(b[i]) \n",
    "end"
   ]
  },
  {
   "cell_type": "markdown",
   "metadata": {},
   "source": [
    "#### Tensors"
   ]
  },
  {
   "cell_type": "code",
   "execution_count": 8,
   "metadata": {
    "collapsed": false
   },
   "outputs": [],
   "source": [
    "a = torch.Tensor(5,3) -- construct a 5x3 matrix, uninitialized"
   ]
  },
  {
   "cell_type": "code",
   "execution_count": 9,
   "metadata": {
    "collapsed": false
   },
   "outputs": [
    {
     "data": {
      "text/plain": [
       " 0.6571  0.1667  0.8858\n",
       " 0.0547  0.6048  0.4849\n",
       " 0.3794  0.5189  0.1749\n",
       " 0.8338  0.9002  0.2758\n",
       " 0.0220  0.6223  0.7457\n",
       "[torch.DoubleTensor of size 5x3]\n",
       "\n"
      ]
     },
     "execution_count": 9,
     "metadata": {},
     "output_type": "execute_result"
    }
   ],
   "source": [
    "a = torch.rand(5,3)\n",
    "print(a)"
   ]
  },
  {
   "cell_type": "code",
   "execution_count": 10,
   "metadata": {
    "collapsed": false
   },
   "outputs": [],
   "source": [
    "b=torch.rand(3,4)"
   ]
  },
  {
   "cell_type": "code",
   "execution_count": 11,
   "metadata": {
    "collapsed": false
   },
   "outputs": [
    {
     "data": {
      "text/plain": [
       " 1.1616  1.3225  0.6878  0.6795\n",
       " 0.7125  0.8149  0.8241  0.5996\n",
       " 0.5274  0.7661  0.6579  0.6855\n",
       " 0.9630  1.4436  1.1609  1.2946\n",
       " 0.9472  1.0081  0.9542  0.6328\n",
       "[torch.DoubleTensor of size 5x4]\n",
       "\n"
      ]
     },
     "execution_count": 11,
     "metadata": {},
     "output_type": "execute_result"
    }
   ],
   "source": [
    "-- matrix-matrix multiplication: syntax 1\n",
    "a*b "
   ]
  },
  {
   "cell_type": "code",
   "execution_count": 12,
   "metadata": {
    "collapsed": false
   },
   "outputs": [
    {
     "data": {
      "text/plain": [
       " 1.1616  1.3225  0.6878  0.6795\n",
       " 0.7125  0.8149  0.8241  0.5996\n",
       " 0.5274  0.7661  0.6579  0.6855\n",
       " 0.9630  1.4436  1.1609  1.2946\n",
       " 0.9472  1.0081  0.9542  0.6328\n",
       "[torch.DoubleTensor of size 5x4]\n",
       "\n"
      ]
     },
     "execution_count": 12,
     "metadata": {},
     "output_type": "execute_result"
    }
   ],
   "source": [
    "-- matrix-matrix multiplication: syntax 2\n",
    "torch.mm(a,b) "
   ]
  },
  {
   "cell_type": "code",
   "execution_count": 13,
   "metadata": {
    "collapsed": false
   },
   "outputs": [],
   "source": [
    "-- matrix-matrix multiplication: syntax 3\n",
    "c=torch.Tensor(5,4)\n",
    "c:mm(a,b) -- store the result of a*b in c"
   ]
  },
  {
   "cell_type": "markdown",
   "metadata": {},
   "source": [
    "#### (Optional) CUDA Tensors\n",
    ":cuda function 을 통해서 변수를 GPU로 보낼 수 있음\n",
    "\n",
    "본 실습에서 주어진 환경은 CPU 기반으로 작동되지 않음\n"
   ]
  },
  {
   "cell_type": "code",
   "execution_count": 14,
   "metadata": {
    "collapsed": false
   },
   "outputs": [
    {
     "ename": "[string \"require 'cutorch';...\"]:1: module 'cutorch' not found:\n\tno field package.preload['cutorch']\n\tno file '/root/.luarocks/share/lua/5.1/cutorch.lua'\n\tno file '/root/.luarocks/share/lua/5.1/cutorch/init.lua'\n\tno file '/root/torch/install/share/lua/5.1/cutorch.lua'\n\tno file '/root/torch/install/share/lua/5.1/cutorch/init.lua'\n\tno file './cutorch.lua'\n\tno file '/root/torch/install/share/luajit-2.1.0-beta1/cutorch.lua'\n\tno file '/usr/local/share/lua/5.1/cutorch.lua'\n\tno file '/usr/local/share/lua/5.1/cutorch/init.lua'\n\tno file '/root/torch/install/lib/cutorch.so'\n\tno file '/root/.luarocks/lib/lua/5.1/cutorch.so'\n\tno file '/root/torch/install/lib/lua/5.1/cutorch.so'\n\tno file './cutorch.so'\n\tno file '/usr/local/lib/lua/5.1/cutorch.so'\n\tno file '/usr/local/lib/lua/5.1/loadall.so'\nstack traceback:\n\t[C]: in function 'require'\n\t[string \"require 'cutorch';...\"]:1: in main chunk\n\t[C]: in function 'xpcall'\n\t/root/torch/install/share/lua/5.1/itorch/main.lua:209: in function </root/torch/install/share/lua/5.1/itorch/main.lua:173>\n\t/root/torch/install/share/lua/5.1/lzmq/poller.lua:75: in function 'poll'\n\t/root/torch/install/share/lua/5.1/lzmq/impl/loop.lua:307: in function 'poll'\n\t/root/torch/install/share/lua/5.1/lzmq/impl/loop.lua:325: in function 'sleep_ex'\n\t/root/torch/install/share/lua/5.1/lzmq/impl/loop.lua:370: in function 'start'\n\t/root/torch/install/share/lua/5.1/itorch/main.lua:381: in main chunk\n\t[C]: in function 'require'\n\t(command line):1: in main chunk\n\t[C]: at 0x00406670",
     "evalue": "",
     "output_type": "error",
     "traceback": [
      "[string \"require 'cutorch';...\"]:1: module 'cutorch' not found:\n\tno field package.preload['cutorch']\n\tno file '/root/.luarocks/share/lua/5.1/cutorch.lua'\n\tno file '/root/.luarocks/share/lua/5.1/cutorch/init.lua'\n\tno file '/root/torch/install/share/lua/5.1/cutorch.lua'\n\tno file '/root/torch/install/share/lua/5.1/cutorch/init.lua'\n\tno file './cutorch.lua'\n\tno file '/root/torch/install/share/luajit-2.1.0-beta1/cutorch.lua'\n\tno file '/usr/local/share/lua/5.1/cutorch.lua'\n\tno file '/usr/local/share/lua/5.1/cutorch/init.lua'\n\tno file '/root/torch/install/lib/cutorch.so'\n\tno file '/root/.luarocks/lib/lua/5.1/cutorch.so'\n\tno file '/root/torch/install/lib/lua/5.1/cutorch.so'\n\tno file './cutorch.so'\n\tno file '/usr/local/lib/lua/5.1/cutorch.so'\n\tno file '/usr/local/lib/lua/5.1/loadall.so'\nstack traceback:\n\t[C]: in function 'require'\n\t[string \"require 'cutorch';...\"]:1: in main chunk\n\t[C]: in function 'xpcall'\n\t/root/torch/install/share/lua/5.1/itorch/main.lua:209: in function </root/torch/install/share/lua/5.1/itorch/main.lua:173>\n\t/root/torch/install/share/lua/5.1/lzmq/poller.lua:75: in function 'poll'\n\t/root/torch/install/share/lua/5.1/lzmq/impl/loop.lua:307: in function 'poll'\n\t/root/torch/install/share/lua/5.1/lzmq/impl/loop.lua:325: in function 'sleep_ex'\n\t/root/torch/install/share/lua/5.1/lzmq/impl/loop.lua:370: in function 'start'\n\t/root/torch/install/share/lua/5.1/itorch/main.lua:381: in main chunk\n\t[C]: in function 'require'\n\t(command line):1: in main chunk\n\t[C]: at 0x00406670"
     ]
    }
   ],
   "source": [
    "require 'cutorch';\n",
    "a = a:cuda()\n",
    "b = b:cuda()\n",
    "c = c:cuda()\n",
    "c:mm(a,b) -- done on GPU"
   ]
  },
  {
   "cell_type": "markdown",
   "metadata": {},
   "source": [
    "#### Exercise: Add two tensors\n",
    "https://github.com/torch/torch7/blob/master/doc/maths.md#res-torchaddres-tensor1-tensor2"
   ]
  },
  {
   "cell_type": "code",
   "execution_count": 6,
   "metadata": {
    "collapsed": false
   },
   "outputs": [],
   "source": [
    "function addTensors(a,b)\n",
    "    return a --FIX ME\n",
    "end"
   ]
  },
  {
   "cell_type": "code",
   "execution_count": 7,
   "metadata": {
    "collapsed": false
   },
   "outputs": [
    {
     "data": {
      "text/plain": [
       " 1  1\n",
       " 1  1\n",
       " 1  1\n",
       " 1  1\n",
       " 1  1\n",
       "[torch.DoubleTensor of size 5x2]\n",
       "\n"
      ]
     },
     "execution_count": 7,
     "metadata": {},
     "output_type": "execute_result"
    }
   ],
   "source": [
    "a = torch.ones(5,2)\n",
    "b = torch.Tensor(2,5):fill(4)\n",
    "print(addTensors(a,b))"
   ]
  },
  {
   "cell_type": "markdown",
   "metadata": {},
   "source": [
    "예상 결과:\n",
    "\n",
    "5 5\n",
    "\n",
    "5 5\n",
    "\n",
    "5 5\n",
    "\n",
    "5 5\n",
    "\n",
    "5 5"
   ]
  },
  {
   "cell_type": "markdown",
   "metadata": {},
   "source": [
    "### Neural Networks\n",
    "Torch 에서 Neural Net은 `nn` 이라는 패키지를 통해서 구축함"
   ]
  },
  {
   "cell_type": "code",
   "execution_count": 9,
   "metadata": {
    "collapsed": false
   },
   "outputs": [],
   "source": [
    "require 'nn';"
   ]
  },
  {
   "cell_type": "markdown",
   "metadata": {},
   "source": [
    "* `module`은 Neural Net을 구성하는 기본 요소로, Layer, activation 등을 정의함\n",
    "* 각 `module`은 `containers`를 이용하여 보다 복잡한 구조로 설계가 가능함"
   ]
  },
  {
   "cell_type": "markdown",
   "metadata": {},
   "source": [
    "예시로, 다음과 같은 네트워크를 만들어보겠습니다.\n",
    "![LeNet](http://fastml.com/images/cifar/lenet5.png)"
   ]
  },
  {
   "cell_type": "markdown",
   "metadata": {},
   "source": [
    "* 위 네트워크는 Yann Lecun이 제시한 `LeNet` 이라고 불리는 네트워크로, 최근에는 `Convolutional Neural Network (CNN)` 이라는 이름으로 불림\n",
    "* 간단한 feed-forward 구조를 가지며, 입력으로 이미지를 받아 일련의 레이어들의 연산을 거친 뒤 해당 이미지가 0~9중 어떤 숫자인 지 맞추는 역할을 수행함\n",
    "* 이런 경우, `nn.Sequential`을 이용하여 여러 레이어를 묶을 수 있음"
   ]
  },
  {
   "cell_type": "code",
   "execution_count": 10,
   "metadata": {
    "collapsed": false
   },
   "outputs": [
    {
     "data": {
      "text/plain": [
       "Lenet5\n",
       "nn.Sequential {\n",
       "  [input -> (1) -> (2) -> (3) -> (4) -> (5) -> (6) -> (7) -> (8) -> (9) -> (10) -> (11) -> (12) -> (13) -> output]\n",
       "  (1): nn.SpatialConvolution(1 -> 6, 5x5)\n",
       "  (2): nn.ReLU\n",
       "  (3): nn.SpatialMaxPooling(2x2, 2,2)\n",
       "  (4): nn.SpatialConvolution(6 -> 16, 5x5)\n",
       "  (5): nn.ReLU\n",
       "  (6): nn.SpatialMaxPooling(2x2, 2,2)\n",
       "  (7): nn.View(400)\n",
       "  (8): nn.Linear(400 -> 120)\n",
       "  (9): nn.ReLU\n",
       "  (10): nn.Linear(120 -> 84)\n",
       "  (11): nn.ReLU\n",
       "  (12): nn.Linear(84 -> 10)\n",
       "  (13): nn.LogSoftMax\n",
       "}\t\n"
      ]
     },
     "execution_count": 10,
     "metadata": {},
     "output_type": "execute_result"
    }
   ],
   "source": [
    "net = nn.Sequential()\n",
    "net:add(nn.SpatialConvolution(1, 6, 5, 5)) -- 1 input image channel, 6 output channels, 5x5 convolution kernel\n",
    "net:add(nn.ReLU())                       -- non-linearity \n",
    "net:add(nn.SpatialMaxPooling(2,2,2,2))     -- A max-pooling operation that looks at 2x2 windows and finds the max.\n",
    "net:add(nn.SpatialConvolution(6, 16, 5, 5))\n",
    "net:add(nn.ReLU())                       -- non-linearity \n",
    "net:add(nn.SpatialMaxPooling(2,2,2,2))\n",
    "net:add(nn.View(16*5*5))                    -- reshapes from a 3D tensor of 16x5x5 into 1D tensor of 16*5*5\n",
    "net:add(nn.Linear(16*5*5, 120))             -- fully connected layer (matrix multiplication between input and weights)\n",
    "net:add(nn.ReLU())                       -- non-linearity \n",
    "net:add(nn.Linear(120, 84))\n",
    "net:add(nn.ReLU())                       -- non-linearity \n",
    "net:add(nn.Linear(84, 10))                   -- 10 is the number of outputs of the network (in this case, 10 digits)\n",
    "net:add(nn.LogSoftMax())                     -- converts the output to a log-probability. Useful for classification problems\n",
    "\n",
    "print('Lenet5\\n' .. net:__tostring());"
   ]
  },
  {
   "cell_type": "markdown",
   "metadata": {},
   "source": [
    "`nn.Sequential`이외에 다른 Container 들은 다음과 같음\n",
    "![containers](https://raw.githubusercontent.com/soumith/ex/gh-pages/assets/nn_containers.png)\n",
    "\n",
    "* Torch의 강점 중 하나는 Automatic differentiation을 지원한다는 것임\n",
    "* `:forward(input)` 으로 입력에 대한 출력이 만들어지면, `:backward(input, gradient)` 가 각 neuron 에 대한 gradient를 chain rule을 이용해 계산함 "
   ]
  },
  {
   "cell_type": "code",
   "execution_count": 11,
   "metadata": {
    "collapsed": false
   },
   "outputs": [],
   "source": [
    "input = torch.rand(1,32,32) -- pass a random tensor as input to the network"
   ]
  },
  {
   "cell_type": "code",
   "execution_count": 12,
   "metadata": {
    "collapsed": false
   },
   "outputs": [],
   "source": [
    "output = net:forward(input)"
   ]
  },
  {
   "cell_type": "code",
   "execution_count": 13,
   "metadata": {
    "collapsed": false
   },
   "outputs": [
    {
     "data": {
      "text/plain": [
       "-2.3755\n",
       "-2.2196\n",
       "-2.4002\n",
       "-2.3016\n",
       "-2.2487\n",
       "-2.2311\n",
       "-2.3761\n",
       "-2.3462\n",
       "-2.1991\n",
       "-2.3529\n",
       "[torch.DoubleTensor of size 10]\n",
       "\n"
      ]
     },
     "execution_count": 13,
     "metadata": {},
     "output_type": "execute_result"
    }
   ],
   "source": [
    "print(output)"
   ]
  },
  {
   "cell_type": "code",
   "execution_count": 14,
   "metadata": {
    "collapsed": false
   },
   "outputs": [],
   "source": [
    "net:zeroGradParameters() -- zero the internal gradient buffers of the network (will come to this later)"
   ]
  },
  {
   "cell_type": "code",
   "execution_count": 15,
   "metadata": {
    "collapsed": false
   },
   "outputs": [],
   "source": [
    "gradInput = net:backward(input, torch.rand(10))"
   ]
  },
  {
   "cell_type": "code",
   "execution_count": 17,
   "metadata": {
    "collapsed": false
   },
   "outputs": [
    {
     "data": {
      "text/plain": [
       "(1,.,.) = \n",
       " Columns 1 to 9\n",
       " 0.001 *\n",
       "   0.0255  0.0225 -0.0299 -0.0175 -0.0064  0.0650  0.1540  0.0363  0.1407\n",
       "   0.0327 -0.0069 -0.0139  0.0621  0.1521  0.2474 -0.1769  0.2692 -0.3115\n",
       "   0.0077 -0.0731  0.0848  0.0100  0.3575  0.0396 -0.0358  0.6801 -0.5516\n",
       "  -0.0594 -0.1336 -0.1045 -0.0254  0.0261 -0.5738  0.3744 -0.8804  0.2979\n",
       "   0.0166  0.0713  0.2487  0.0753  0.4744  0.4780  0.0490  0.1568  0.0755\n",
       "   0.3037  0.2198 -0.3392  0.3086 -0.0003  0.5928 -0.6589  0.2400 -0.4497\n",
       "  -0.4956  0.1419 -0.2083  0.1996  0.0411 -0.6025  0.3400  0.3467  0.6620\n",
       "  -0.3741  0.2376  0.1049  0.1453  0.1181 -0.5485 -0.2970  0.2776 -0.4595\n",
       "   0.3779  0.5450 -0.4661 -0.1994  0.3261 -0.2430 -0.6738 -0.0240  1.0221\n",
       "  -0.1716  0.1503  0.3980  0.7775  0.3288 -0.3917  0.1741 -0.6919  1.4830\n",
       "   0.0513 -0.0572 -0.0068 -0.4157 -1.0506 -0.6833  1.5093  1.0784  0.3236\n",
       "  -0.0951  0.1602 -0.1954  0.3073 -0.0431  0.7000 -0.6146  0.8308  1.2015\n",
       "   0.1041 -0.0243  0.6003  0.2182 -1.3298 -0.6324 -1.0070 -0.0663 -0.6377\n",
       "  -0.1246  0.5966  0.8684 -0.0885 -0.3277 -0.4447  0.1462  1.1548 -0.3997\n",
       "  -0.3483  0.3539 -0.1531  0.0043  0.5621 -0.9090  0.4303  0.2084 -0.1435\n",
       "  -0.0338  0.0758 -0.1186 -0.0360 -0.6510 -0.0865  0.5624 -0.5103  0.9428\n",
       "  -0.0504  0.6267  0.0980  0.2857 -0.5354 -0.9386 -0.1434  1.0640 -0.8808\n",
       "   0.0317 -0.2582 -0.1037  0.1570 -0.2302  1.1777 -0.4405 -0.5239 -0.4202\n",
       "   0.0642 -0.2725 -0.4901 -0.2621 -1.1880 -0.7648  0.5151 -1.6863 -1.1761\n",
       "  -0.0862  0.2650  0.3291 -0.2644 -0.3562 -0.0690  0.7483  1.1846 -0.1820\n",
       "   0.0138  0.0774  0.3662 -0.1941  0.5802  0.4447 -0.2998 -0.0893 -0.6695\n",
       "  -0.0940 -0.0334 -0.4003  0.6710  0.3300 -0.2588  0.3819 -0.9566 -0.1208\n",
       "   0.1005 -0.0931  0.0944 -0.1085  0.3297  0.8688 -0.3866  0.5429  0.2624\n",
       "   0.0133  0.2158 -0.5391  0.2438 -0.3526 -1.0230 -0.2678  0.6299  0.8832\n",
       "  -0.1120  0.2704 -0.1089  0.2725 -0.1362  0.8736  0.1726  0.3392 -0.3211\n",
       "  -0.2855  0.0227 -0.1474  0.2140 -0.1239  0.7305 -0.5226  0.6493  0.5337\n",
       "  -0.0892  0.0084 -0.0002  0.4250  0.1878 -0.1188 -0.2617  0.5526  0.0069\n",
       "   0.0418 -0.1528 -0.2177 -0.2996  0.4093  0.5197 -0.3004  0.4570 -0.2562\n",
       "   0.0568  0.0655 -0.0408  0.0436  0.4432  0.3473  0.4343 -0.0950 -0.0993\n",
       "   0.0160  0.0529 -0.0020 -0.0972 -0.5628  0.0813  0.1257 -0.2513  0.1713\n",
       "  -0.0422  0.0134  0.0566 -0.0165  0.1151  0.0927 -0.2391  0.1356 -0.1203\n",
       "   0.0151 -0.0280  0.0026  0.1731  0.2031  0.2050 -0.4944 -0.4681 -0.0163\n",
       "\n",
       "Columns 10 to 18\n",
       " 0.001 *\n",
       "   0.0697 -0.0222 -0.3284 -0.0811 -0.2861  0.2185  0.0453 -0.0028  0.1910\n",
       "  -0.2246 -0.3911  0.1143  0.1966  0.1223  0.0110 -0.0697 -0.1553 -0.0613\n",
       "   0.1585 -0.2128  0.5496 -0.2774  0.2078 -0.1995 -0.1698  0.0534  0.0766\n",
       "   0.2057 -0.6487  0.0420  0.6643 -0.0128 -0.1558  0.0110  0.2879 -0.2683\n",
       "  -0.4282  0.1667 -0.6420 -0.3959  0.3365  0.2411  0.3400 -0.0044  0.4062\n",
       "  -0.3236  0.3479  0.4184 -0.2831 -0.7932  0.8851  0.2891 -0.2224  0.7581\n",
       "  -0.2095 -0.1323  0.2143  0.0147  0.0570  0.6561 -0.6185  0.7294  0.2683\n",
       "   0.5964 -1.0592  0.2028  0.4522  0.7724  0.5329 -1.7787  0.1587 -1.7307\n",
       "   1.9253 -0.0740 -0.4740 -1.2666  0.1165 -0.5846  0.6293  0.1616 -0.3894\n",
       "  -0.2081  1.9655 -0.6519  1.1821 -0.4210 -1.4274  0.5694  0.8100 -1.1040\n",
       "   0.5781  0.2998  0.3556 -0.1984 -0.2224 -0.8409 -1.2712 -2.1972 -0.2723\n",
       "   0.2453 -1.7133  0.9216  0.2312 -0.5581 -0.4049 -0.6434  1.2697  1.7156\n",
       "   1.0112 -1.1042 -0.5108 -0.7615  1.1963 -1.0270  0.7784  0.4706 -0.4318\n",
       "  -1.2449  0.8784 -0.7893 -1.0174  0.7612 -0.6237  0.9693 -0.7856  0.5521\n",
       "   0.0360 -0.7182  0.2829  0.7010 -0.4617 -0.6046 -0.2458 -1.2447  1.2136\n",
       "  -0.1187 -1.3484  0.2279 -1.3225  1.4664  0.2704  0.3081  0.2599  0.1500\n",
       "   0.8558  0.5687  1.2827  1.0674 -0.9985 -0.5625 -0.5983  0.1612  1.4365\n",
       "  -1.3844  1.6867 -0.2174  0.3482 -0.4279  0.4786  0.3235 -0.7217 -1.0078\n",
       "  -0.0390 -0.2822 -0.7979  1.0393 -0.6924  1.1061 -0.1219  0.0846 -0.2385\n",
       "   0.2248 -0.4097  1.0228 -0.9895 -0.4253 -0.8046 -0.0258  0.0836  0.2104\n",
       "  -0.0936 -1.1041  0.4432  0.1976  1.1037 -0.7616  0.5321 -1.8139 -0.2337\n",
       "   0.3964  0.4279  0.8522  1.4122  0.3531  0.4993  0.3188  0.1621  0.9903\n",
       "  -0.1537  0.5323  0.1272  0.1119  0."
      ]
     },
     "execution_count": 17,
     "metadata": {},
     "output_type": "execute_result"
    },
    {
     "data": {
      "text/plain": [
       "8649 -0.1715 -1.1560  0.0959  0.4867\n",
       "   1.3191 -0.7564  0.4702  0.0953  0.2327 -0.3915  0.3399 -0.4405 -0.8145\n",
       "   0.5172 -0.7570  0.4982 -0.3534  0.6212  1.7189  0.0877 -0.6833 -0.7239\n",
       "  -0.2884  0.2621  0.3229 -0.3789 -0.0146 -1.1803  0.2942  0.2752  0.5516\n",
       "   0.0961 -1.1003 -1.2950  0.0184  0.7247 -0.7756  0.0452  0.2245  1.1790\n",
       "  -0.2600 -0.7654 -0.0622  0.4977 -0.8455  0.9779 -0.3158 -0.5098 -0.5971\n",
       "   0.4968 -0.3307 -0.7975 -0.2429 -0.6869  1.0556  0.3871 -0.3321 -0.2815\n",
       "   0.2042 -0.1062 -0.0784 -0.1536  0.2055  0.4920 -0.4508 -0.1732 -0.4981\n",
       "   0.0269  0.1695  0.2795 -0.1381  0.3051 -0.5853  0.2313  0.2946  0.2387\n",
       "   0.1655  0.1792  0.1062 -0.1945  0.2215 -0.1208  0.1624 -0.1392  0.2352\n",
       "\n",
       "Columns 19 to 27\n",
       " 0.001 *\n",
       "  -0.0062 -0.0157  0.2013  0.0013 -0.2349  0.0510  0.0595  0.0430 -0.0649\n",
       "   0.2863  0.0666  0.2349 -0.3249  0.3416  0.2604 -0.2016  0.1199 -0.1889\n",
       "   0.1440  0.3638  0.1281 -0.3572 -0.0399 -0.3803  0.2537 -0.0571  0.1529\n",
       "  -0.0671 -0.3809 -0.0716 -0.0511 -0.7270  0.0805 -0.1479  0.1047  0.1966\n",
       "  -0.0051 -0.3543  0.2668 -0.1465 -0.5025 -0.2020  0.0361  0.1070 -0.1549\n",
       "  -0.4221  0.1430  0.1040 -0.5588 -0.2115  0.4967 -0.1985 -0.3213 -0.0369\n",
       "  -1.1783 -0.6229 -0.1002  0.2691 -0.0276  0.0272  0.0434 -0.0213  0.0032\n",
       "   0.1248  0.3697  0.2536 -0.6407 -0.8442  0.2348  0.3981  0.0231  0.1527\n",
       "   0.2014 -0.7095  0.5281  0.8571 -0.4203 -0.9839  0.5255 -0.1167  0.1955\n",
       "  -2.1909 -0.7080  0.6280 -0.6583  0.4853  0.1429  0.0636  0.0051 -0.6082\n",
       "   1.8990  2.4473  0.6822  0.2158 -1.2299 -0.3815 -0.0990  0.3052  0.3309\n",
       "  -0.9170 -0.7437  0.9408  1.6767 -0.0065  0.1517 -0.9192 -0.4089 -0.1575\n",
       "  -0.6805  0.6967  1.3154  0.3339 -0.0175 -0.4105 -0.4425  0.3519 -0.7710\n",
       "   0.0900 -1.3150 -0.8307 -1.6383  0.7227  0.3370  0.7523  0.1742  0.3901\n",
       "  -0.6935  0.2668  0.4803 -0.7926 -1.1769  0.5901 -0.1969  0.2596  0.2438\n",
       "  -1.1528 -0.3421 -0.4155 -0.9001  0.4286 -1.0342 -1.2106  0.5247 -0.2959\n",
       "  -0.8561 -0.3926 -1.6852 -1.3219  1.1064 -0.7595  1.1523  0.0619  0.2643\n",
       "  -1.5477  1.1892 -1.8244  0.0915 -0.2539 -0.5913  0.4088 -1.3815 -0.3662\n",
       "  -0.3349 -1.0913  0.4667 -0.8636  0.5780  1.0733 -0.0133  0.4777 -0.6590\n",
       "   0.7031  0.3027 -0.6854  0.7729 -0.0242 -0.6495  0.2943 -0.9368  1.3896\n",
       "  -0.2422  0.3477  1.0107  0.3550  1.1287  0.3939 -0.2088  1.1947 -2.2628\n",
       "  -0.5689  0.0648 -0.4247 -0.0269 -0.4396  0.1349  1.8795 -1.1185  0.4328\n",
       "   1.7394  0.6631  0.3306 -0.1762  0.8922  0.3924  1.1568 -0.2060  1.3605\n",
       "   0.2967  0.5225 -0.1894  0.2879  0.4926 -0.5418  0.5074  0.3795  0.8304\n",
       "  -1.4817 -0.3981  0.2545  0.8514 -0.6018  0.3906  0.4571 -0.1772 -0.1954\n",
       "  -0.4766 -1.0836  0.3876 -0.7520 -1.1658 -1.0097  0.2391  0.0846 -0.2966\n",
       "   0.1700 -0.3238 -0.0889 -0.5984  0.1322 -0.2733  0.4832 -0.2910 -0.3116\n",
       "   0.0732  1.2541 -0.6769 -0.1745  0.7796  0.7572  0.3420 -0.3481 -0.0365\n",
       "   0.0093  0.4754  0.3070  0.6130 -0.2451 -0.4288  0.0612 -0.1284 -0.1851\n",
       "  -0.4998 -0.0634  0.3227 -0.0054 -0.0147  0.0282  0.0542 -0.1735 -0.3114\n",
       "   0.0441 -0.1693 -0.1332  0.1717 -0.0354 -0.0993 -0.1744  0.1905 -0.1500\n",
       "   0.3174 -0.2105 -0.1881 -0.1442 -0.0292  0.0241 -0.2601 -0.1862  0.0385\n",
       "\n",
       "Columns 28 to 32\n",
       " 0.001 *\n",
       "  -0.0097  0.0243 -0.0128 -0.0034  0.0000\n",
       "   0.0454 -0.0401  0.0024 -0.0110 -0.0021\n",
       "  -0.1615  0.0121 -0.0529 -0.0259  0.0122\n",
       "  -0.5374 -0.0964 -0.1235  0.1667  0.0088\n",
       "   0.0834 -0.0129  0.1667 -0.0767  0.0555\n",
       "   0.1614  0.0343  0.0577 -0.0731  0.0301\n",
       "   0.6960 -0.6826 -0.1325  0.0441  0.1200\n",
       "  -0.1404 -0.1637 -0.0301  0.1887 -0.0938\n",
       "   0.1069  0.3951 -0.2989 -0.1991 -0.1523\n",
       "  -0.0660  0.0996 -0.3187 -0.1424 -0.1029\n",
       "   1.0267 -1.0212  0.0385  0.1150  0.0193\n",
       "  -0.5765 -0.1048  0.4107  0.0328  0.0907\n",
       "   0.3637  0.2768  0.0332 -0.0880  0.0286\n",
       "  -0.0260  0.1844 -0.0974  0.0714 -0.0748\n",
       "   0.0192 -0.1268 -0.0058  0.0045  0.1289\n",
       "   0.0054 -0.5867  0.8605 -0.1285 -0.0498\n",
       "   0.7794  0.0851 -0.8570 -0.0972  0.3774\n",
       "   0.2798  0.5940 -0.5534  0.5261 -0.2406\n",
       "  -0.1888 -0.0018 -0.0421  0.3612 -0.4248\n",
       "  -0.0291 -0.5723 -0.2288 -0.3677  0.2053\n",
       "  -0.2522 -0.3705  0.1134 -0.3068  0.1200\n",
       "  -0.4531  0.3681 -0.3800 -0.2749 -0.0064\n",
       "  -0.0099  0.3363 -0.5145 -0.0218 -0.1530\n",
       "  -0."
      ]
     },
     "execution_count": 17,
     "metadata": {},
     "output_type": "execute_result"
    },
    {
     "data": {
      "text/plain": [
       "1866  0.0868 -0.2864  0.1838 -0.0295\n",
       "   0.1736  0.3014  0.2321  0.2042 -0.0992\n",
       "   0.1910 -0.2058 -0.1275 -0.2486 -0.0782\n",
       "   0.3340 -0.0315 -0.0183 -0.2776  0.0247\n",
       "  -0.4598 -0.4122 -0.2171 -0.2864  0.0219\n",
       "   0.0018  0.1492 -0.1278 -0.0168  0.0067\n",
       "   0.0638  0.0297  0.0454  0.0258 -0.0016\n",
       "  -0.0031 -0.0033 -0.0638 -0.0337 -0.0128\n",
       "   0.1012  0.0398  0.0477 -0.0030  0.0000\n",
       "[torch.DoubleTensor of size 1x32x32]\n",
       "\n"
      ]
     },
     "execution_count": 17,
     "metadata": {},
     "output_type": "execute_result"
    }
   ],
   "source": [
    "print(gradInput)\n"
   ]
  },
  {
   "cell_type": "markdown",
   "metadata": {},
   "source": [
    "### Criterion: loss function 정의하기\n",
    "\n",
    "When you want a model to learn to do something, you give it feedback on how well it is doing. This function that computes an objective measure of the model's performance is called a __loss function__.\n",
    "\n",
    "A typical loss function takes in the model's output and the groundtruth and computes a value that quantifies the model's performance.\n",
    "\n",
    "The model then corrects itself to have a smaller loss.\n",
    "\n",
    "In torch, loss functions are implemented just like neural network modules, and have automatic differentiation.  \n",
    "They have two functions - `forward(input, target)`, `backward(input, target)`\n",
    "\n",
    "For example:"
   ]
  },
  {
   "cell_type": "code",
   "execution_count": 25,
   "metadata": {
    "collapsed": false
   },
   "outputs": [],
   "source": [
    "criterion = nn.ClassNLLCriterion() -- a negative log-likelihood criterion for multi-class classification\n",
    "criterion:forward(output, 3) -- let's say the groundtruth was class number: 3\n",
    "gradients = criterion:backward(output, 3)"
   ]
  },
  {
   "cell_type": "code",
   "execution_count": 26,
   "metadata": {
    "collapsed": false
   },
   "outputs": [],
   "source": [
    "gradInput = net:backward(input, gradients)"
   ]
  },
  {
   "cell_type": "markdown",
   "metadata": {},
   "source": [
    "##### Review of what you learnt so far\n",
    "* Network can have many layers of computation\n",
    "* Network takes an input and produces an output in the :forward pass\n",
    "* Criterion computes the loss of the network, and it's gradients w.r.t. the output of the network.\n",
    "* Network takes an (input, gradients) pair in it's backward pass and calculates the gradients w.r.t. each layer (and neuron) in the network.\n",
    "\n",
    "##### Missing details\n",
    "> A neural network layer can have learnable parameters or not.\n",
    "\n",
    "A convolution layer learns it's convolution kernels to adapt to the input data and the problem being solved.  \n",
    "A max-pooling layer has no learnable parameters. It only finds the max of local windows.\n",
    "\n",
    "A layer in torch which has learnable weights, will typically have fields .weight (and optionally, .bias)"
   ]
  },
  {
   "cell_type": "code",
   "execution_count": 27,
   "metadata": {
    "collapsed": false
   },
   "outputs": [
    {
     "data": {
      "text/plain": [
       "(1,1,.,.) = \n",
       "  0.0609  0.0852\n",
       " -0.1986 -0.1194\n",
       "\n",
       "(2,1,.,.) = \n",
       "  0.4351 -0.4792\n",
       " -0.2842  0.0821\n",
       "\n",
       "(3,1,.,.) = \n",
       "  0.2197  0.3140\n",
       "  0.3606 -0.1833\n",
       "[torch.DoubleTensor of size 3x1x2x2]\n",
       "\n"
      ]
     },
     "execution_count": 27,
     "metadata": {},
     "output_type": "execute_result"
    }
   ],
   "source": [
    "m = nn.SpatialConvolution(1,3,2,2) -- learn 3 2x2 kernels\n",
    "print(m.weight) -- initially, the weights are randomly initialized"
   ]
  },
  {
   "cell_type": "code",
   "execution_count": 28,
   "metadata": {
    "collapsed": false
   },
   "outputs": [
    {
     "data": {
      "text/plain": [
       "-0.2446\n",
       " 0.4891\n",
       " 0.3018\n",
       "[torch.DoubleTensor of size 3]\n",
       "\n"
      ]
     },
     "execution_count": 28,
     "metadata": {},
     "output_type": "execute_result"
    }
   ],
   "source": [
    "print(m.bias) -- The operation in a convolution layer is: output = convolution(input,weight) + bias"
   ]
  },
  {
   "cell_type": "markdown",
   "metadata": {},
   "source": [
    "There are also two other important fields in a learnable layer. The gradWeight and gradBias.\n",
    "The gradWeight accumulates the gradients w.r.t. each weight in the layer, and the gradBias, w.r.t. each bias in the layer.\n",
    "\n",
    "#### Training the network\n",
    "\n",
    "For the network to adjust itself, it typically does this operation (if you do Stochastic Gradient Descent):\n",
    "> weight = weight + learningRate * gradWeight [equation 1]\n",
    "\n",
    "This update over time will adjust the network weights such that the output loss is decreasing."
   ]
  },
  {
   "cell_type": "markdown",
   "metadata": {},
   "source": [
    "Okay, now it is time to discuss one missing piece. Who visits each layer in your neural network and updates the weight according to Equation 1?\n",
    "\n",
    "There are multiple answers, but we will use the simplest answer.  \n",
    "We shall use the simple SGD trainer shipped with the neural network module: [__nn.StochasticGradient__](https://github.com/torch/nn/blob/master/doc/training.md#stochasticgradientmodule-criterion).\n",
    "\n",
    "It has a function :train(dataset) that takes a given dataset and simply trains your network by showing different samples from your dataset to the network."
   ]
  },
  {
   "cell_type": "markdown",
   "metadata": {},
   "source": [
    "### What about data?\n",
    "Generally, when you have to deal with image, text, audio or video data, you can use standard functions like: [__image.load__](https://github.com/torch/image#res-imageloadfilename-depth-tensortype) or [__audio.load__](https://github.com/soumith/lua---audio#usage) to load your data into a _torch.Tensor_ or a Lua table, as convenient.\n",
    "\n",
    "Let us now use some simple data to train our network.\n",
    "\n",
    "We shall use the CIFAR-10 dataset, which has the classes: 'airplane', 'automobile', 'bird', 'cat', 'deer', 'dog', 'frog', 'horse', 'ship', 'truck'.  \n",
    "The images in CIFAR-10 are of size 3x32x32, i.e. 3-channel color images of 32x32 pixels in size.\n",
    "![CIFAR-10 image](https://raw.githubusercontent.com/soumith/ex/gh-pages/assets/cifar10.png)\n",
    "\n",
    "The dataset has 50,000 training images and 10,000 test images in total.\n",
    "\n",
    "__We now have 5 steps left to do in training our first torch neural network__\n",
    "1. Load and normalize data\n",
    "2. Define Neural Network\n",
    "3. Define Loss function\n",
    "4. Train network on training data\n",
    "5. Test network on test data.\n",
    "\n",
    "__1. Load and normalize data__\n",
    "\n",
    "Today, in the interest of time, we prepared the data before-hand into a 4D torch ByteTensor of size 50000x3x32x32 (training) and 10000x3x32x32 (testing)\n",
    "Let us load the data and inspect it."
   ]
  },
  {
   "cell_type": "code",
   "execution_count": 29,
   "metadata": {
    "collapsed": false
   },
   "outputs": [],
   "source": [
    "require 'paths'\n",
    "if (not paths.filep(\"cifar10torchsmall.zip\")) then\n",
    "    os.execute('wget -c https://s3.amazonaws.com/torch7/data/cifar10torchsmall.zip')\n",
    "    os.execute('unzip cifar10torchsmall.zip')\n",
    "end\n",
    "trainset = torch.load('cifar10-train.t7')\n",
    "testset = torch.load('cifar10-test.t7')\n",
    "classes = {'airplane', 'automobile', 'bird', 'cat',\n",
    "           'deer', 'dog', 'frog', 'horse', 'ship', 'truck'}"
   ]
  },
  {
   "cell_type": "code",
   "execution_count": 30,
   "metadata": {
    "collapsed": false
   },
   "outputs": [
    {
     "data": {
      "text/plain": [
       "{\n",
       "  data : ByteTensor - size: 10000x3x32x32\n",
       "  label : ByteTensor - size: 10000\n",
       "}\n"
      ]
     },
     "execution_count": 30,
     "metadata": {},
     "output_type": "execute_result"
    }
   ],
   "source": [
    "print(trainset)"
   ]
  },
  {
   "cell_type": "code",
   "execution_count": 31,
   "metadata": {
    "collapsed": false
   },
   "outputs": [
    {
     "data": {
      "text/plain": [
       " 10000\n",
       "     3\n",
       "    32\n",
       "    32\n",
       "[torch.LongStorage of size 4]\n",
       "\n"
      ]
     },
     "execution_count": 31,
     "metadata": {},
     "output_type": "execute_result"
    }
   ],
   "source": [
    "print(#trainset.data)"
   ]
  },
  {
   "cell_type": "markdown",
   "metadata": {},
   "source": [
    "For fun, let us display an image:"
   ]
  },
  {
   "cell_type": "code",
   "execution_count": 32,
   "metadata": {
    "collapsed": false
   },
   "outputs": [
    {
     "data": {
      "text/plain": [
       "automobile\t\n"
      ]
     },
     "execution_count": 32,
     "metadata": {},
     "output_type": "execute_result"
    },
    {
     "data": {
      "image/png": "[encoded data removed]",
      "text/plain": [
       "Console does not support images"
      ]
     },
     "metadata": {
      "image/png": {
       "height": 32,
       "width": 32
      }
     },
     "output_type": "display_data"
    }
   ],
   "source": [
    "itorch.image(trainset.data[100]) -- display the 100-th image in dataset\n",
    "print(classes[trainset.label[100]])"
   ]
  },
  {
   "cell_type": "markdown",
   "metadata": {},
   "source": [
    "Now, to prepare the dataset to be used with __nn.StochasticGradient__, a couple of things have to be done according to it's [documentation](https://github.com/torch/nn/blob/master/doc/training.md#traindataset).\n",
    "1. The dataset has to have a :size() function.\n",
    "2. The dataset has to have a [i] index operator, so that dataset[i] returns the ith sample in the datset.\n",
    "\n",
    "Both can be done quickly:"
   ]
  },
  {
   "cell_type": "code",
   "execution_count": 33,
   "metadata": {
    "collapsed": false
   },
   "outputs": [],
   "source": [
    "-- ignore setmetatable for now, it is a feature beyond the scope of this tutorial. It sets the index operator.\n",
    "setmetatable(trainset, \n",
    "    {__index = function(t, i) \n",
    "                    return {t.data[i], t.label[i]} \n",
    "                end}\n",
    ");\n",
    "trainset.data = trainset.data:double() -- convert the data from a ByteTensor to a DoubleTensor.\n",
    "\n",
    "function trainset:size() \n",
    "    return self.data:size(1) \n",
    "end"
   ]
  },
  {
   "cell_type": "code",
   "execution_count": 34,
   "metadata": {
    "collapsed": false
   },
   "outputs": [
    {
     "data": {
      "text/plain": [
       "10000\t\n"
      ]
     },
     "execution_count": 34,
     "metadata": {},
     "output_type": "execute_result"
    }
   ],
   "source": [
    "print(trainset:size()) -- just to test"
   ]
  },
  {
   "cell_type": "code",
   "execution_count": 35,
   "metadata": {
    "collapsed": false
   },
   "outputs": [
    {
     "data": {
      "text/plain": [
       "{\n",
       "  1 : DoubleTensor - size: 3x32x32\n",
       "  2 : 2\n",
       "}\n"
      ]
     },
     "execution_count": 35,
     "metadata": {},
     "output_type": "execute_result"
    },
    {
     "data": {
      "image/png": "[encoded data removed]",
      "text/plain": [
       "Console does not support images"
      ]
     },
     "metadata": {
      "image/png": {
       "height": 32,
       "width": 32
      }
     },
     "output_type": "display_data"
    }
   ],
   "source": [
    "print(trainset[33]) -- load sample number 33.\n",
    "itorch.image(trainset[33][1])"
   ]
  },
  {
   "cell_type": "markdown",
   "metadata": {},
   "source": [
    "__One of the most important things you can do in conditioning your data (in general in data-science or machine learning) is to make your data to have a mean of 0.0 and standard-deviation of 1.0.__\n",
    "\n",
    "Let us do that as a final step of our data processing.\n",
    "\n",
    "To do this, we introduce you to the tensor indexing operator.\n",
    "It is shown by example:"
   ]
  },
  {
   "cell_type": "code",
   "execution_count": 36,
   "metadata": {
    "collapsed": false
   },
   "outputs": [],
   "source": [
    "redChannel = trainset.data[{ {}, {1}, {}, {}  }] -- this picks {all images, 1st channel, all vertical pixels, all horizontal pixels}"
   ]
  },
  {
   "cell_type": "code",
   "execution_count": 37,
   "metadata": {
    "collapsed": false
   },
   "outputs": [
    {
     "data": {
      "text/plain": [
       " 10000\n",
       "     1\n",
       "    32\n",
       "    32\n",
       "[torch.LongStorage of size 4]\n",
       "\n"
      ]
     },
     "execution_count": 37,
     "metadata": {},
     "output_type": "execute_result"
    }
   ],
   "source": [
    "print(#redChannel)"
   ]
  },
  {
   "cell_type": "markdown",
   "metadata": {},
   "source": [
    "In this indexing operator, you initally start with ___[{ }]___. You can pick all elements in a dimension using ___{}___ or pick a particular element using ___{i}___ where ___i___ is the element index. You can also pick a range of elements using ___{i1, i2}___, for example ___{3,5}___ gives us the 3,4,5 elements.\n",
    "\n",
    "__Exercise: Select the 150th to 300th data elements of the data__"
   ]
  },
  {
   "cell_type": "code",
   "execution_count": 38,
   "metadata": {
    "collapsed": false
   },
   "outputs": [],
   "source": [
    "-- TODO: fill"
   ]
  },
  {
   "cell_type": "markdown",
   "metadata": {},
   "source": [
    "Moving back to mean-subtraction and standard-deviation based scaling, doing this operation is simple, using the indexing operator that we learnt above:"
   ]
  },
  {
   "cell_type": "code",
   "execution_count": 39,
   "metadata": {
    "collapsed": false
   },
   "outputs": [
    {
     "data": {
      "text/plain": [
       "Channel 1, Mean: 125.83175029297\t\n"
      ]
     },
     "execution_count": 39,
     "metadata": {},
     "output_type": "execute_result"
    },
    {
     "data": {
      "text/plain": [
       "Channel 1, Standard Deviation: 63.143400842609\t\n"
      ]
     },
     "execution_count": 39,
     "metadata": {},
     "output_type": "execute_result"
    },
    {
     "data": {
      "text/plain": [
       "Channel 2, Mean: 123.26066621094\t\n"
      ]
     },
     "execution_count": 39,
     "metadata": {},
     "output_type": "execute_result"
    },
    {
     "data": {
      "text/plain": [
       "Channel 2, Standard Deviation: 62.369209019002\t\n"
      ]
     },
     "execution_count": 39,
     "metadata": {},
     "output_type": "execute_result"
    },
    {
     "data": {
      "text/plain": [
       "Channel 3, Mean: 114.03068681641\t\n"
      ]
     },
     "execution_count": 39,
     "metadata": {},
     "output_type": "execute_result"
    },
    {
     "data": {
      "text/plain": [
       "Channel 3, Standard Deviation: 66.965808411114\t\n"
      ]
     },
     "execution_count": 39,
     "metadata": {},
     "output_type": "execute_result"
    }
   ],
   "source": [
    "mean = {} -- store the mean, to normalize the test set in the future\n",
    "stdv  = {} -- store the standard-deviation for the future\n",
    "for i=1,3 do -- over each image channel\n",
    "    mean[i] = trainset.data[{ {}, {i}, {}, {}  }]:mean() -- mean estimation\n",
    "    print('Channel ' .. i .. ', Mean: ' .. mean[i])\n",
    "    trainset.data[{ {}, {i}, {}, {}  }]:add(-mean[i]) -- mean subtraction\n",
    "    \n",
    "    stdv[i] = trainset.data[{ {}, {i}, {}, {}  }]:std() -- std estimation\n",
    "    print('Channel ' .. i .. ', Standard Deviation: ' .. stdv[i])\n",
    "    trainset.data[{ {}, {i}, {}, {}  }]:div(stdv[i]) -- std scaling\n",
    "end"
   ]
  },
  {
   "cell_type": "markdown",
   "metadata": {},
   "source": [
    "As you notice, our training data is now normalized and ready to be used.\n",
    "\n",
    "__ 2. Time to define our neural network__\n"
   ]
  },
  {
   "cell_type": "markdown",
   "metadata": {},
   "source": [
    "**Exercise:** Copy the neural network from the __Neural Networks__ section above and modify it to take 3-channel images (instead of 1-channel images as it was defined).  \n",
    "Hint: You only have to change the first layer, change the number 1 to be 3."
   ]
  },
  {
   "cell_type": "code",
   "execution_count": null,
   "metadata": {
    "collapsed": false
   },
   "outputs": [],
   "source": [
    "\n",
    "\n",
    "\n",
    "\n",
    "\n",
    "\n",
    "\n",
    "\n",
    "\n",
    "\n",
    "\n",
    "\n",
    "\n",
    "\n",
    "\n",
    "\n",
    "\n",
    "\n",
    "\n",
    "\n",
    "\n",
    "\n",
    "\n",
    "\n",
    "\n",
    "\n",
    "\n",
    "\n",
    "\n",
    "\n",
    "\n",
    "\n",
    "\n",
    "\n",
    "\n",
    "\n",
    "\n",
    "\n",
    "\n",
    "\n",
    "\n",
    "\n",
    "\n",
    "\n"
   ]
  },
  {
   "cell_type": "markdown",
   "metadata": {},
   "source": [
    "__Solution:__"
   ]
  },
  {
   "cell_type": "code",
   "execution_count": 38,
   "metadata": {
    "collapsed": false
   },
   "outputs": [],
   "source": [
    "net = nn.Sequential()\n",
    "net:add(nn.SpatialConvolution(3, 6, 5, 5)) -- 3 input image channels, 6 output channels, 5x5 convolution kernel\n",
    "net:add(nn.ReLU())                       -- non-linearity \n",
    "net:add(nn.SpatialMaxPooling(2,2,2,2))     -- A max-pooling operation that looks at 2x2 windows and finds the max.\n",
    "net:add(nn.SpatialConvolution(6, 16, 5, 5))\n",
    "net:add(nn.ReLU())                       -- non-linearity \n",
    "net:add(nn.SpatialMaxPooling(2,2,2,2))\n",
    "net:add(nn.View(16*5*5))                    -- reshapes from a 3D tensor of 16x5x5 into 1D tensor of 16*5*5\n",
    "net:add(nn.Linear(16*5*5, 120))             -- fully connected layer (matrix multiplication between input and weights)\n",
    "net:add(nn.ReLU())                       -- non-linearity \n",
    "net:add(nn.Linear(120, 84))\n",
    "net:add(nn.ReLU())                       -- non-linearity \n",
    "net:add(nn.Linear(84, 10))                   -- 10 is the number of outputs of the network (in this case, 10 digits)\n",
    "net:add(nn.LogSoftMax())                     -- converts the output to a log-probability. Useful for classification problems"
   ]
  },
  {
   "cell_type": "markdown",
   "metadata": {},
   "source": [
    "__3. Let us define the Loss function__\n",
    "\n",
    "Let us use a Log-likelihood classification loss. It is well suited for most classification problems."
   ]
  },
  {
   "cell_type": "code",
   "execution_count": 39,
   "metadata": {
    "collapsed": false
   },
   "outputs": [],
   "source": [
    "criterion = nn.ClassNLLCriterion()"
   ]
  },
  {
   "cell_type": "markdown",
   "metadata": {},
   "source": [
    "__4. Train the neural network__\n",
    "\n",
    "This is when things start to get interesting.  \n",
    "Let us first define an __nn.StochasticGradient__ object. Then we will give our dataset to this object's ___:train___ function, and that will get the ball rolling."
   ]
  },
  {
   "cell_type": "code",
   "execution_count": 40,
   "metadata": {
    "collapsed": false
   },
   "outputs": [],
   "source": [
    "trainer = nn.StochasticGradient(net, criterion)\n",
    "trainer.learningRate = 0.001\n",
    "trainer.maxIteration = 5 -- just do 5 epochs of training."
   ]
  },
  {
   "cell_type": "code",
   "execution_count": 41,
   "metadata": {
    "collapsed": false
   },
   "outputs": [
    {
     "data": {
      "text/plain": [
       "{\n",
       "  VolumetricMaxUnpooling : table: 0x40701818\n",
       "  ConcatTable : table: 0x4070ae18\n",
       "  MV : table: 0x41014208\n",
       "  SpatialAveragePooling : table: 0x407a1048\n",
       "  SpatialConvolutionMM : table: 0x4078e150\n",
       "  Reshape : table: 0x40d52bb8\n",
       "  Jacobian : \n",
       "    {\n",
       "      forward : function: 0x4101c458\n",
       "      testAllUpdate : function: 0x4101c5d8\n",
       "      testDiagHessianInput : function: 0x4101c558\n",
       "      testDiagHessianWeight : function: 0x4101c578\n",
       "      testDiagHessianBias : function: 0x4101c598\n",
       "      testDiagHessian : function: 0x4101c538\n",
       "      testJacobian : function: 0x4101c4d8\n",
       "      testIO : function: 0x4101c5b8\n",
       "      testJacobianUpdateParameters : function: 0x4101c518\n",
       "      backwardDiagHessian : function: 0x4101c478\n",
       "      testJacobianParameters : function: 0x4101c4f8\n",
       "      backwardUpdate : function: 0x4101c438\n",
       "      forwardUpdate : function: 0x4101c4b8\n",
       "      backward : function: 0x4101c3e0\n",
       "      linearModuleDiagHessian : function: 0x4101c498\n",
       "    }\n",
       "  SparseLinear : table: 0x41f29df8\n",
       "  SoftMarginCriterion : table: 0x418e82f0\n",
       "  SpatialCrossMapLRN : table: 0x402ad268\n",
       "  CAddTable : table: 0x41f3f490\n",
       " "
      ]
     },
     "execution_count": 41,
     "metadata": {},
     "output_type": "execute_result"
    },
    {
     "data": {
      "text/plain": [
       " TemporalConvolution : table: 0x407a3500\n",
       "  PairwiseDistance : table: 0x407ed8f8\n",
       "  WeightedMSECriterion : table: 0x41007200\n",
       "  SmoothL1Criterion : table: 0x418e5538\n",
       "  TemporalSubSampling : table: 0x407a4200\n",
       "  PartialLinear : table: 0x41e6bd10\n",
       "  TanhShrink : table: 0x41e367b0\n",
       "  MixtureTable : table: 0x407143d8\n",
       "  MSECriterion : table: 0x418e3dd0\n",
       "  LogSoftMax : table: 0x41e2dd00\n",
       "  Identity : table: 0x40719e88\n",
       "  Exp : table: 0x4199bd98\n",
       "  Add : table: 0x419959d8\n",
       "  SpatialConvolutionLocal : table: 0x41795c38\n",
       "  Squeeze : table: 0x4004eb18\n",
       "  AbsCriterion : table: 0x418e99e0\n",
       "  MultiCriterion : table: 0x418f2468\n",
       "  Max : table: 0x418dc500\n",
       "  MulConstant : table: 0x41e74b50\n",
       "  NarrowTable : table: 0x40718c98\n",
       "  View : table: 0x40f87768\n",
       "  VolumetricConvolution : table: 0x402ba798\n",
       "  SpatialSubSampling : table: 0x40794558\n",
       "  HardTanh : table: 0x41e29ef8\n",
       "  DistKLDivCriterion : table: 0x418f0938\n",
       "  SplitTable : table: 0x4070c120\n",
       "  DotProduct : table: 0x407f2030\n",
       "  HingeEmbeddingCriterion : table: 0x418f6a88\n",
       "  SpatialBatchNormalization : table: 0x402b6810\n",
       "  DepthConcat : table: 0x41584ce0\n",
       "  CMulTable : table: 0x41582270\n",
       "  SpatialAdaptiveMaxPooling : table: 0x407a2760\n",
       "  Parallel : table: 0x418d7f18\n",
       "  SoftShrink : table: 0x4177c330\n",
       "  SpatialSubtractiveNormalization : table: 0x402a4638\n",
       "  Log : table: 0x41e288d0\n",
       "  VolumetricDropout : table: 0x41a1a020\n",
       "  SpatialDropout : table: 0x41f4b468\n",
       "  LeakyReLU : table: 0x41782630\n",
       "  VolumetricMaxPooling : table: 0x402b0c60\n",
       "  hessian : \n",
       "    {\n",
       "      enable : function: 0x41017718\n",
       "    }\n",
       "  Linear : table: 0x40050570\n",
       "  Euclidean : table: 0x41580170\n",
       "  CriterionTable : table: 0x40715110\n",
       "  SpatialMaxPooling : table: 0x407971a8\n",
       "  MaskedSelect : table: 0x40d631d0\n",
       "  MultiMarginCriterion : table: 0x418fdcb8\n",
       "  ELU : table: 0x41786c78\n",
       "  Threshold : table: 0x4177e0e0\n",
       "  SpatialReflectionPadding : table: 0x402b1c90\n",
       "  Copy : table: 0x4199ab80\n",
       "  Unsqueeze : table: 0x41e6dd10\n",
       "  VolumetricAveragePooling : table: 0x40703880\n",
       "  StochasticGradient : table: 0x4100ecc8\n",
       "  SpatialContrastiveNormalization : table: 0x402a9688\n",
       "  Bilinear : table: 0x41f2bed8\n",
       "  SpatialReplicationPadding : table: 0x402b40f0\n",
       "  Padding : table: 0x41e76978\n",
       "  Container : table: 0x400553f0\n",
       "  MarginRankingCriterion : table: 0x418fbfa0\n",
       "  Module : table: 0x41e66510\n",
       "  VolumetricFullConvolution : table: 0x402a1ef0\n",
       "  Concat : table: 0x41f27610\n",
       "  CrossEntropyCriterion : table: 0x4100aaf0\n",
       "  LookupTable : table: 0x4178b4a8\n",
       "  MarginCriterion : table: 0x418e6cc0\n"
      ]
     },
     "execution_count": 41,
     "metadata": {},
     "output_type": "execute_result"
    },
    {
     "data": {
      "text/plain": [
       "  HardShrink : table: 0x4177adb8\n",
       "  Abs : table: 0x41e37a08\n",
       "  SparseJacobian : \n",
       "    {\n",
       "      forward : function: 0x41020d60\n",
       "      testJacobian : function: 0x41020da0\n",
       "      testIO : function: 0x41020e00\n",
       "      testAllUpdate : function: 0x41020e20\n",
       "      testJacobianParameters : function: 0x41020dc0\n",
       "      testJacobianUpdateParameters : function: 0x41020de0\n",
       "      forwardUpdate : function: 0x41020d80\n",
       "      backward : function: 0x41020ce8\n",
       "      backwardUpdate : function: 0x41020d40\n",
       "    }\n",
       "  SoftMin : table: 0x41e31710\n",
       "  WeightedEuclidean : table: 0x41f3bab8\n",
       "  VolumetricBatchNormalization : table: 0x407045e8\n",
       "  ClassSimplexCriterion : table: 0x418eed08\n",
       "  Contiguous : table: 0x4199ceb0\n",
       "  FlattenTable : table: 0x407171a8\n",
       "  PReLU : table: 0x41780ec0\n",
       "  utils : \n",
       "    {\n",
       "      contiguousView : function: 0x415845e0\n",
       "      recursiveType : function: 0x41996e20\n",
       "      recursiveCopy : function: 0x415844d8\n",
       "      recursiveResizeAs : function: 0x40d5e298\n",
       "      recursiveAdd : function: 0x40d5e260\n",
       "      clear : function: 0x40d5e2d8\n",
       "      addSingletonDimension : function: 0x415845c0\n",
       "      recursiveFill : function: 0x40d5e2b8\n",
       "    }\n",
       "  JoinTable : table: 0x4070e9c0\n",
       "  ClassNLLCriterion : table: 0x418ebb28\n",
       "  CMul : table: 0x4157d508\n",
       "  CosineDistance : table: 0x407f06b0\n",
       "  Index : table: 0x419a2330\n",
       "  Mean : table: 0x41991b88\n",
       "  Dropout : table: 0x41f3e440\n",
       "  SoftPlus : table: 0x41e32bf0\n",
       "  SpatialDivisiveNormalization : table: 0x402a8598\n",
       "  L1Penalty : table: 0x418f6210\n",
       "  test : function: 0x40b76648\n",
       "  Power : table: 0x41e38dd8\n",
       "  Sqrt : table: 0x4199b878\n",
       "  Sequential : table: 0x41f0db58\n",
       "  MM : table: 0x41011590\n",
       "  ParallelCriterion : table: 0x4100cc90\n",
       "  Square : table: 0x41e3a160\n",
       "  BCECriterion : table: 0x410094e0\n",
       "  L1Cost : table: 0x418f6ea8\n",
       "  MultiLabelSoftMarginCriterion : table: 0x419009b0\n",
       "  MultiLabelMarginCriterion : table: 0x418ff028\n",
       "  SoftMax : table: 0x41e30208\n",
       "  CosineEmbeddingCriterion : table: 0x418fa3a0\n",
       "  Cosine : table: 0x407ee8b0\n",
       "  Clamp : table: 0x41e2aea0\n",
       "  L1HingeEmbeddingCriterion : table: 0x418f3fa8\n",
       "  SelectTable : table: 0x407101a8\n",
       "  CDivTable : table: 0x41f3e248\n",
       "  TemporalMaxPooling : table: 0x402a10a8\n",
       "  LogSigmoid : table: 0x41e2c730\n"
      ]
     },
     "execution_count": 41,
     "metadata": {},
     "output_type": "execute_result"
    },
    {
     "data": {
      "text/plain": [
       "  Sum : table: 0x41a1c128\n",
       "  SoftSign : table: 0x41e341d0\n",
       "  CSubTable : table: 0x41e71808\n",
       "  SpatialUpSamplingNearest : table: 0x402b5c30\n",
       "  Mul : table: 0x41e75f68\n",
       "  AddConstant : table: 0x4157fa28\n",
       "  Tanh : table: 0x41e353c0\n",
       "  Replicate : table: 0x41e6b110\n",
       "  BatchNormalization : table: 0x41e6d660\n",
       "  Select : table: 0x40d556a8\n",
       "  SpatialLPPooling : table: 0x4079e648\n",
       "  Sigmoid : table: 0x41e2f018\n",
       "  GradientReversal : table: 0x40d60328\n",
       "  SpatialConvolution : table: 0x41790270\n",
       "  Criterion : table: 0x418e2318\n",
       "  SpatialConvolutionMap : table: 0x407926a0\n",
       "  ReLU : table: 0x4177f108\n",
       "  SpatialFullConvolutionMap : table: 0x4078a110\n",
       "  tables : \n",
       "    {\n",
       "      full : function: 0x40792768\n",
       "      oneToOne : function: 0x40792788\n",
       "      random : function: 0x407927a8\n",
       "    }\n",
       "  SpatialMaxUnpooling : table: 0x407990a0\n",
       "  SpatialFullConvolution : table: 0x41e2b1f8\n",
       "  Transpose : table: 0x41f247e8\n",
       "  RReLU : table: 0x41785518\n",
       "  SpatialZeroPadding : table: 0x402b05b0\n",
       "  Min : table: 0x40d5f9e8\n",
       "  Narrow : table: 0x419a40e8\n",
       "  Normalize : table: 0x407f5d58\n",
       "  ParallelTable : table: 0x407072e0\n",
       "  SpatialSoftMax : table: 0x417838c8\n",
       "  SpatialFractionalMaxPooling : table: 0x4079cc00\n",
       "}\n"
      ]
     },
     "execution_count": 41,
     "metadata": {},
     "output_type": "execute_result"
    }
   ],
   "source": [
    "nn"
   ]
  },
  {
   "cell_type": "code",
   "execution_count": null,
   "metadata": {
    "collapsed": false
   },
   "outputs": [
    {
     "data": {
      "text/plain": [
       "# StochasticGradient: training\t\n"
      ]
     },
     "execution_count": 42,
     "metadata": {},
     "output_type": "execute_result"
    }
   ],
   "source": [
    "trainer:train(trainset)"
   ]
  },
  {
   "cell_type": "markdown",
   "metadata": {},
   "source": [
    "__5. Test the network, print accuracy__\n",
    "\n",
    "We have trained the network for 2 passes over the training dataset.  \n",
    "But we need to check if the network has learnt anything at all.  \n",
    "We will check this by predicting the class label that the neural network outputs, and checking it against the ground-truth. If the prediction is correct, we add the sample to the list of correct predictions."
   ]
  },
  {
   "cell_type": "markdown",
   "metadata": {},
   "source": [
    "Okay, first step. Let us display an image from the test set to get familiar."
   ]
  },
  {
   "cell_type": "code",
   "execution_count": null,
   "metadata": {
    "collapsed": false
   },
   "outputs": [],
   "source": [
    "print(classes[testset.label[100]])\n",
    "itorch.image(testset.data[100])"
   ]
  },
  {
   "cell_type": "markdown",
   "metadata": {},
   "source": [
    "Now that we are done with that, let us normalize the test data with the mean and standard-deviation from the training data."
   ]
  },
  {
   "cell_type": "code",
   "execution_count": null,
   "metadata": {
    "collapsed": false
   },
   "outputs": [],
   "source": [
    "testset.data = testset.data:double()   -- convert from Byte tensor to Double tensor\n",
    "for i=1,3 do -- over each image channel\n",
    "    testset.data[{ {}, {i}, {}, {}  }]:add(-mean[i]) -- mean subtraction    \n",
    "    testset.data[{ {}, {i}, {}, {}  }]:div(stdv[i]) -- std scaling\n",
    "end"
   ]
  },
  {
   "cell_type": "code",
   "execution_count": null,
   "metadata": {
    "collapsed": false
   },
   "outputs": [],
   "source": [
    "-- for fun, print the mean and standard-deviation of example-100\n",
    "horse = testset.data[100]\n",
    "print(horse:mean(), horse:std())"
   ]
  },
  {
   "cell_type": "markdown",
   "metadata": {},
   "source": [
    "Okay, now let us see what the neural network thinks these examples above are:"
   ]
  },
  {
   "cell_type": "code",
   "execution_count": null,
   "metadata": {
    "collapsed": false
   },
   "outputs": [],
   "source": [
    "print(classes[testset.label[100]])\n",
    "itorch.image(testset.data[100])\n",
    "predicted = net:forward(testset.data[100])"
   ]
  },
  {
   "cell_type": "code",
   "execution_count": null,
   "metadata": {
    "collapsed": false
   },
   "outputs": [],
   "source": [
    "-- the output of the network is Log-Probabilities. To convert them to probabilities, you have to take e^x \n",
    "print(predicted:exp())"
   ]
  },
  {
   "cell_type": "markdown",
   "metadata": {},
   "source": [
    "You can see the network predictions. The network assigned a probability to each classes, given the image.\n",
    "\n",
    "To make it clearer, let us tag each probability with it's class-name:"
   ]
  },
  {
   "cell_type": "code",
   "execution_count": null,
   "metadata": {
    "collapsed": false
   },
   "outputs": [],
   "source": [
    "for i=1,predicted:size(1) do\n",
    "    print(classes[i], predicted[i])\n",
    "end"
   ]
  },
  {
   "cell_type": "markdown",
   "metadata": {},
   "source": [
    "Alright, fine. One single example sucked, but how many in total seem to be correct over the test set?"
   ]
  },
  {
   "cell_type": "code",
   "execution_count": null,
   "metadata": {
    "collapsed": false
   },
   "outputs": [],
   "source": [
    "correct = 0\n",
    "for i=1,10000 do\n",
    "    local groundtruth = testset.label[i]\n",
    "    local prediction = net:forward(testset.data[i])\n",
    "    local confidences, indices = torch.sort(prediction, true)  -- true means sort in descending order\n",
    "    if groundtruth == indices[1] then\n",
    "        correct = correct + 1\n",
    "    end\n",
    "end"
   ]
  },
  {
   "cell_type": "code",
   "execution_count": null,
   "metadata": {
    "collapsed": false
   },
   "outputs": [],
   "source": [
    "print(correct, 100*correct/10000 .. ' % ')"
   ]
  },
  {
   "cell_type": "markdown",
   "metadata": {},
   "source": [
    "That looks waaay better than chance, which is 10% accuracy (randomly picking a class out of 10 classes). Seems like the network learnt something.\n",
    "\n",
    "Hmmm, what are the classes that performed well, and the classes that did not perform well:"
   ]
  },
  {
   "cell_type": "code",
   "execution_count": null,
   "metadata": {
    "collapsed": false
   },
   "outputs": [],
   "source": [
    "class_performance = {0, 0, 0, 0, 0, 0, 0, 0, 0, 0}\n",
    "for i=1,10000 do\n",
    "    local groundtruth = testset.label[i]\n",
    "    local prediction = net:forward(testset.data[i])\n",
    "    local confidences, indices = torch.sort(prediction, true)  -- true means sort in descending order\n",
    "    if groundtruth == indices[1] then\n",
    "        class_performance[groundtruth] = class_performance[groundtruth] + 1\n",
    "    end\n",
    "end"
   ]
  },
  {
   "cell_type": "code",
   "execution_count": null,
   "metadata": {
    "collapsed": false
   },
   "outputs": [],
   "source": [
    "for i=1,#classes do\n",
    "    print(classes[i], 100*class_performance[i]/1000 .. ' %')\n",
    "end"
   ]
  },
  {
   "cell_type": "markdown",
   "metadata": {},
   "source": [
    "Okay, so what next? How do we run this neural network on GPUs?\n",
    "\n",
    "#### cunn: neural networks on GPUs using CUDA"
   ]
  },
  {
   "cell_type": "code",
   "execution_count": null,
   "metadata": {
    "collapsed": false
   },
   "outputs": [],
   "source": [
    "require 'cunn';"
   ]
  },
  {
   "cell_type": "markdown",
   "metadata": {},
   "source": [
    "The idea is pretty simple. Take a neural network, and transfer it over to GPU:"
   ]
  },
  {
   "cell_type": "code",
   "execution_count": null,
   "metadata": {
    "collapsed": false
   },
   "outputs": [],
   "source": [
    "net = net:cuda()"
   ]
  },
  {
   "cell_type": "markdown",
   "metadata": {},
   "source": [
    "Also, transfer the criterion to GPU:"
   ]
  },
  {
   "cell_type": "code",
   "execution_count": null,
   "metadata": {
    "collapsed": false
   },
   "outputs": [],
   "source": [
    "criterion = criterion:cuda()"
   ]
  },
  {
   "cell_type": "markdown",
   "metadata": {},
   "source": [
    "Ok, now the data:"
   ]
  },
  {
   "cell_type": "code",
   "execution_count": null,
   "metadata": {
    "collapsed": false
   },
   "outputs": [],
   "source": [
    "trainset.data = trainset.data:cuda()\n",
    "trainset.label = trainset.label:cuda()"
   ]
  },
  {
   "cell_type": "markdown",
   "metadata": {},
   "source": [
    "Okay, let's train on GPU :) #sosimple"
   ]
  },
  {
   "cell_type": "code",
   "execution_count": null,
   "metadata": {
    "collapsed": false
   },
   "outputs": [],
   "source": [
    "trainer = nn.StochasticGradient(net, criterion)\n",
    "trainer.learningRate = 0.001\n",
    "trainer.maxIteration = 5 -- just do 5 epochs of training."
   ]
  },
  {
   "cell_type": "code",
   "execution_count": null,
   "metadata": {
    "collapsed": false
   },
   "outputs": [],
   "source": [
    "trainer:train(trainset)"
   ]
  },
  {
   "cell_type": "markdown",
   "metadata": {},
   "source": [
    "Why dont I notice MASSIVE speedup compared to CPU?\n",
    "Because your network is realllly small. \n",
    "\n",
    "**Exercise:** Try increasing the size of your network (argument 1 and 2 of nn.SpatialConvolution(...), see what kind of speedup you get."
   ]
  },
  {
   "cell_type": "markdown",
   "metadata": {},
   "source": [
    "**Goals achieved:**\n",
    "* Understand torch and the neural networks package at a high-level.\n",
    "* Train a small neural network on CPU and GPU"
   ]
  },
  {
   "cell_type": "markdown",
   "metadata": {},
   "source": [
    "### Where do I go next?"
   ]
  },
  {
   "cell_type": "markdown",
   "metadata": {},
   "source": [
    "* Build crazy graphs of networks: https://github.com/torch/nngraph\n",
    "* Train on imagenet with multiple GPUs: https://github.com/soumith/imagenet-multiGPU.torch\n",
    "* Train recurrent networks with LSTM on text: https://github.com/wojzaremba/lstm\n",
    "\n",
    "* More demos and tutorials: https://github.com/torch/torch7/wiki/Cheatsheet\n",
    "\n",
    "* Chat with developers of Torch: http://gitter.im/torch/torch7\n",
    "* Ask for help: http://groups.google.com/forum/#!forum/torch7\n"
   ]
  },
  {
   "cell_type": "code",
   "execution_count": null,
   "metadata": {
    "collapsed": false
   },
   "outputs": [],
   "source": []
  }
 ],
 "metadata": {
  "kernelspec": {
   "display_name": "iTorch",
   "language": "lua",
   "name": "itorch"
  },
  "language_info": {
   "name": "lua",
   "version": "5.1"
  }
 },
 "nbformat": 4,
 "nbformat_minor": 0
}
