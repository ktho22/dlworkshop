{
 "cells": [
  {
   "cell_type": "markdown",
   "metadata": {},
   "source": [
    "# 3. Train model using PyCaffe\n",
    "PyCaffe를 이용하여 network architecture(.prototxt)를 생성하고 python 상에 구현된 solver를 이용하여 LeNet을 학습하는 방법을 다룹니다.\n",
    "\n",
    "* Network가 복잡해 질수록 network architecture에 작성해야할 내용이 많아집니다.\n",
    "* 본 실습에서는 PyCaffe를 이용하여 python으로 network prototxt를 생성하는 방법을 다루며, python 상에서 이를 학습하는 방법에 대해서 다룹니다."
   ]
  },
  {
   "cell_type": "markdown",
   "metadata": {},
   "source": [
    "### 1. Define Model"
   ]
  },
  {
   "cell_type": "markdown",
   "metadata": {},
   "source": [
    "<img src = './lenet/lenet5.png'>\n",
    "\n",
    "실습 1번에서 다룬 LeNet의 network 정의 prototxt를 python으로 생성해 보겠습니다.\n",
    "\n",
    "LeNet의 구조는 아래와 같이 정의할 수 있습니다.\n",
    "\n",
    "* Conv1: kernel_size=5, num_kernel=20, stride=1\n",
    "* Pool1: kernel_size=2, stride=2, Max Pooling\n",
    "* Conv2: kernel_size=5, num_kernel=50, stride=1\n",
    "* Pool2: kernel_size=2, stride=2, Max Pooling\n",
    "* ip1  : num_output=500\n",
    "* ReLU \n",
    "* ip2  : num_output=10 # label score prediction\n",
    "* Loss : Softmaxwithloss"
   ]
  },
  {
   "cell_type": "markdown",
   "metadata": {},
   "source": [
    "PyCaffe로 Network 정의 prototxt를 생성하기 위해서 필요한 libraries를 import 합니다."
   ]
  },
  {
   "cell_type": "code",
   "execution_count": 2,
   "metadata": {
    "collapsed": false
   },
   "outputs": [
    {
     "name": "stderr",
     "output_type": "stream",
     "text": [
      "/root/caffe/python/caffe/pycaffe.py:13: RuntimeWarning: to-Python converter for boost::shared_ptr<caffe::Net<float> > already registered; second conversion method ignored.\n",
      "  from ._caffe import Net, SGDSolver, NesterovSolver, AdaGradSolver, \\\n",
      "/root/caffe/python/caffe/pycaffe.py:13: RuntimeWarning: to-Python converter for boost::shared_ptr<caffe::Blob<float> > already registered; second conversion method ignored.\n",
      "  from ._caffe import Net, SGDSolver, NesterovSolver, AdaGradSolver, \\\n",
      "/root/caffe/python/caffe/pycaffe.py:13: RuntimeWarning: to-Python converter for boost::shared_ptr<caffe::Solver<float> > already registered; second conversion method ignored.\n",
      "  from ._caffe import Net, SGDSolver, NesterovSolver, AdaGradSolver, \\\n"
     ]
    }
   ],
   "source": [
    "import caffe\n",
    "import numpy as np\n",
    "from caffe import layers as L, params as P\n",
    "from pylab import *\n",
    "#import matplotlib.pyplot as plt\n",
    "# display plots in this notebook\n",
    "%matplotlib inline"
   ]
  },
  {
   "cell_type": "markdown",
   "metadata": {},
   "source": [
    "위의 LeNet 모델은 아래의 python script로 표현이 가능합니다.\n",
    "(LeNet의 구조와 python script상의 layer parameter를 비교해보세요)"
   ]
  },
  {
   "cell_type": "code",
   "execution_count": 3,
   "metadata": {
    "collapsed": false
   },
   "outputs": [],
   "source": [
    "def lenet(lmdb_path, batch_size, phase_flag):\n",
    "    \n",
    "    n = caffe.NetSpec()\n",
    "    ### data input setting\n",
    "    #### include=[dict(phase)] 를 사용하여 train dataset과 test dataset을 구분하여 생성합니다.\n",
    "    #phase = 0 : TRAIN\n",
    "    #phase = 1 : TEST\n",
    "    if phase_flag == 'TRAIN':\n",
    "        n.data, n.label = L.Data(batch_size=batch_size, backend=P.Data.LMDB, source=lmdb_path,\n",
    "                             transform_param=dict(scale=1./255), ntop=2, include=[dict(phase=0)])\n",
    "    if phase_flag == 'TEST':\n",
    "        n.data, n.label = L.Data(batch_size=batch_size, backend=P.Data.LMDB, source=lmdb_path,\n",
    "                             transform_param=dict(scale=1./255), ntop=2, include=[dict(phase=1)])\n",
    "    \n",
    "    ### 2 convolutional layer + 2 fully-connected layer\n",
    "    n.conv1 = L.Convolution(n.data, kernel_size=5, num_output=20, weight_filler=dict(type='xavier'))\n",
    "    n.pool1 = L.Pooling(n.conv1, kernel_size=2, stride=2, pool=P.Pooling.MAX)\n",
    "    n.conv2 = L.Convolution(n.pool1, kernel_size=5, num_output=50, weight_filler=dict(type='xavier'))\n",
    "    n.pool2 = L.Pooling(n.conv2, kernel_size=2, stride=2, pool=P.Pooling.MAX)\n",
    "    n.ip1 =   L.InnerProduct(n.pool2, num_output=500, weight_filler=dict(type='xavier'))\n",
    "    n.relu1 = L.ReLU(n.ip1, in_place=True)\n",
    "    n.ip2 = L.InnerProduct(n.relu1, num_output=10, weight_filler=dict(type='xavier'))\n",
    "    if phase_flag == 'TEST':\n",
    "        n.accuracy = L.Accuracy(n.ip2, n.label, include=[dict(phase=1)]) # Test phase에서만 활성화하기 위해 include 문 삽입\n",
    "    n.loss =  L.SoftmaxWithLoss(n.ip2, n.label)\n",
    "    \n",
    "    \n",
    "    return n.to_proto()"
   ]
  },
  {
   "cell_type": "markdown",
   "metadata": {},
   "source": [
    "정의된 lenet 함수를 호출하여 prototxt파일을 write합니다."
   ]
  },
  {
   "cell_type": "code",
   "execution_count": 10,
   "metadata": {
    "collapsed": false
   },
   "outputs": [],
   "source": [
    "with open('./lenet/lenet_python_tr.prototxt','w') as f:\n",
    "    f.write(str(lenet('./lenet/mnist_train_lmdb', 64, 'TRAIN')))\n",
    "with open('./lenet/lenet_python_te.prototxt','w') as f:\n",
    "    f.write(str(lenet('./lenet/mnist_test_lmdb', 100, 'TEST')))"
   ]
  },
  {
   "cell_type": "markdown",
   "metadata": {},
   "source": [
    "생성된 python_lenet_tr.prototxt를 확인하고 이전 실습에서 사용한 lenet_train_test.prototxt와 비교해보세요"
   ]
  },
  {
   "cell_type": "code",
   "execution_count": 11,
   "metadata": {
    "collapsed": false
   },
   "outputs": [
    {
     "name": "stdout",
     "output_type": "stream",
     "text": [
      "layer {\r\n",
      "  name: \"data\"\r\n",
      "  type: \"Data\"\r\n",
      "  top: \"data\"\r\n",
      "  top: \"label\"\r\n",
      "  include {\r\n",
      "    phase: TRAIN\r\n",
      "  }\r\n",
      "  transform_param {\r\n",
      "    scale: 0.00392156862745\r\n",
      "  }\r\n",
      "  data_param {\r\n",
      "    source: \"./lenet/mnist_train_lmdb\"\r\n",
      "    batch_size: 64\r\n",
      "    backend: LMDB\r\n",
      "  }\r\n",
      "}\r\n",
      "layer {\r\n",
      "  name: \"conv1\"\r\n",
      "  type: \"Convolution\"\r\n",
      "  bottom: \"data\"\r\n",
      "  top: \"conv1\"\r\n",
      "  convolution_param {\r\n",
      "    num_output: 20\r\n",
      "    kernel_size: 5\r\n",
      "    weight_filler {\r\n",
      "      type: \"xavier\"\r\n",
      "    }\r\n",
      "  }\r\n",
      "}\r\n",
      "layer {\r\n",
      "  name: \"pool1\"\r\n",
      "  type: \"Pooling\"\r\n",
      "  bottom: \"conv1\"\r\n",
      "  top: \"pool1\"\r\n",
      "  pooling_param {\r\n",
      "    pool: MAX\r\n",
      "    kernel_size: 2\r\n",
      "    stride: 2\r\n",
      "  }\r\n",
      "}\r\n",
      "layer {\r\n",
      "  name: \"conv2\"\r\n",
      "  type: \"Convolution\"\r\n",
      "  bottom: \"pool1\"\r\n",
      "  top: \"conv2\"\r\n",
      "  convolution_param {\r\n",
      "    num_output: 50\r\n",
      "    kernel_size: 5\r\n",
      "    weight_filler {\r\n",
      "      type: \"xavier\"\r\n",
      "    }\r\n",
      "  }\r\n",
      "}\r\n",
      "layer {\r\n",
      "  name: \"pool2\"\r\n",
      "  type: \"Pooling\"\r\n",
      "  bottom: \"conv2\"\r\n",
      "  top: \"pool2\"\r\n",
      "  pooling_param {\r\n",
      "    pool: MAX\r\n",
      "    kernel_size: 2\r\n",
      "    stride: 2\r\n",
      "  }\r\n",
      "}\r\n",
      "layer {\r\n",
      "  name: \"ip1\"\r\n",
      "  type: \"InnerProduct\"\r\n",
      "  bottom: \"pool2\"\r\n",
      "  top: \"ip1\"\r\n",
      "  inner_product_param {\r\n",
      "    num_output: 500\r\n",
      "    weight_filler {\r\n",
      "      type: \"xavier\"\r\n",
      "    }\r\n",
      "  }\r\n",
      "}\r\n",
      "layer {\r\n",
      "  name: \"relu1\"\r\n",
      "  type: \"ReLU\"\r\n",
      "  bottom: \"ip1\"\r\n",
      "  top: \"ip1\"\r\n",
      "}\r\n",
      "layer {\r\n",
      "  name: \"ip2\"\r\n",
      "  type: \"InnerProduct\"\r\n",
      "  bottom: \"ip1\"\r\n",
      "  top: \"ip2\"\r\n",
      "  inner_product_param {\r\n",
      "    num_output: 10\r\n",
      "    weight_filler {\r\n",
      "      type: \"xavier\"\r\n",
      "    }\r\n",
      "  }\r\n",
      "}\r\n",
      "layer {\r\n",
      "  name: \"loss\"\r\n",
      "  type: \"SoftmaxWithLoss\"\r\n",
      "  bottom: \"ip2\"\r\n",
      "  bottom: \"label\"\r\n",
      "  top: \"loss\"\r\n",
      "}\r\n"
     ]
    }
   ],
   "source": [
    "!cat ./lenet/lenet_python_tr.prototxt"
   ]
  },
  {
   "cell_type": "markdown",
   "metadata": {},
   "source": [
    "Solver 정의는 lenet_python_solver.prototxt 를 사용합니다."
   ]
  },
  {
   "cell_type": "code",
   "execution_count": 12,
   "metadata": {
    "collapsed": false
   },
   "outputs": [
    {
     "name": "stdout",
     "output_type": "stream",
     "text": [
      "# The train/test net protocol buffer definition\r\n",
      "train_net: \"./lenet/lenet_python_tr.prototxt\"\r\n",
      "test_net: \"./lenet/lenet_python_te.prototxt\"\r\n",
      "# test_iter specifies how many forward passes the test should carry out.\r\n",
      "# In the case of MNIST, we have test batch size 100 and 100 test iterations,\r\n",
      "# covering the full 10,000 testing images.\r\n",
      "test_iter: 100\r\n",
      "# Carry out testing every 500 training iterations.\r\n",
      "test_interval: 500\r\n",
      "# The base learning rate, momentum and the weight decay of the network.\r\n",
      "base_lr: 0.01\r\n",
      "momentum: 0.9\r\n",
      "weight_decay: 0.0005\r\n",
      "# The learning rate policy\r\n",
      "lr_policy: \"inv\"\r\n",
      "gamma: 0.0001\r\n",
      "power: 0.75\r\n",
      "# Display every 100 iterations\r\n",
      "display: 100\r\n",
      "# The maximum number of iterations\r\n",
      "max_iter: 10000\r\n",
      "# snapshot intermediate results\r\n",
      "snapshot: 5000\r\n",
      "snapshot_prefix: \"./lenet/lenet\"\r\n",
      "# solver mode: CPU or GPU\r\n",
      "solver_mode: CPU\r\n"
     ]
    }
   ],
   "source": [
    "!cat ./lenet/lenet_python_solver.prototxt"
   ]
  },
  {
   "cell_type": "markdown",
   "metadata": {},
   "source": [
    "PyCaffe의 SGD Solver는 아래처럼 solver prototext 파일로부터 초기화 할 수 있습니다."
   ]
  },
  {
   "cell_type": "code",
   "execution_count": 17,
   "metadata": {
    "collapsed": false
   },
   "outputs": [],
   "source": [
    "caffe.set_mode_cpu()\n",
    "solver = None # PyCaffe에서 SGDSolver가 미리 정의되어 있는 상태로 재정의를 하면 오류가 발생합니다. 이를 방지하기 위해서 실행합니다.\n",
    "solver = caffe.SGDSolver('./lenet/lenet_python_solver.prototxt')"
   ]
  },
  {
   "cell_type": "markdown",
   "metadata": {},
   "source": [
    "PyCaffe를 사용하여 학습하는 예제입니다. Python으로 학습 loop를 수행하므로, `./caffe/build/tools/caffe train` 으로 학습하는 경우보다 더 많은 부분을 조정 할 수 있습니다.\n",
    "예를 들어\n",
    "* 매 training step마다의 loss를 저장하여 learning curve 그래프를 쉽게 그릴 수 있습니다.\n",
    "* Max iter가 아니라, validation set의 loss를 기준으로 하는 stop creterion을 설정할 수 있습니다.\n",
    "* Network weights를 정해진 loop마다 저장하는 것이 아니라, validation loss가 가장 작을때에 저장할 수 있습니다."
   ]
  },
  {
   "cell_type": "code",
   "execution_count": 18,
   "metadata": {
    "collapsed": false
   },
   "outputs": [
    {
     "name": "stdout",
     "output_type": "stream",
     "text": [
      "Iteration 0 testing acc:  0.1064\n",
      "Iteration 25 testing acc:  0.7975\n",
      "Iteration 50 testing acc:  0.8613\n",
      "Iteration 75 testing acc:  0.8974\n",
      "Iteration 100 testing acc:  0.9191\n",
      "Iteration 125 testing acc:  0.9363\n",
      "Iteration 150 testing acc:  0.9308\n",
      "Iteration 175 testing acc:  0.9376\n"
     ]
    }
   ],
   "source": [
    "niter = 200 # Max iteration Number를 10000에서 200번으로 재정의 합니다.\n",
    "test_interval = 25 # 매 25번 training loop마다 test set에 대해 성능을 측정합니다.\n",
    "train_loss = np.zeros(niter) # traiing loss를 저장하는 변수입니다\n",
    "test_acc = np.zeros(int(np.ceil(niter / test_interval))) # training acc를 저장하는 변수입니다.\n",
    "\n",
    "for i in xrange(niter):\n",
    "    solver.step(1)\n",
    "    train_loss[i] = solver.net.blobs['loss'].data # Train net의 loss blob을 가져와 저장합니다.\n",
    "    if i % test_interval == 0:\n",
    "        correct = 0\n",
    "        for test_i in xrange(100):\n",
    "            solver.test_nets[0].forward()\n",
    "            correct += sum(solver.test_nets[0].blobs['ip2'].data.argmax(1) == solver.test_nets[0].blobs['label'].data)\n",
    "            test_acc[i // test_interval] = correct / 1e4\n",
    "        print 'Iteration', i, 'testing acc: ', test_acc[i // test_interval]"
   ]
  },
  {
   "cell_type": "markdown",
   "metadata": {},
   "source": [
    "PyCaffe의 확장성을 이용하여 Iteration마다의 Train loss와 Test accuracy를 그리는 코드입니다."
   ]
  },
  {
   "cell_type": "code",
   "execution_count": 20,
   "metadata": {
    "collapsed": false,
    "scrolled": false
   },
   "outputs": [
    {
     "data": {
      "text/plain": [
       "<matplotlib.text.Text at 0x7f7afc9f8650>"
      ]
     },
     "execution_count": 20,
     "metadata": {},
     "output_type": "execute_result"
    },
    {
     "data": {
      "image/png": "[encoded data removed]",
      "text/plain": [
       "<matplotlib.figure.Figure at 0x7f7afe5a7c90>"
      ]
     },
     "metadata": {},
     "output_type": "display_data"
    }
   ],
   "source": [
    "_, ax1 = plt.subplots()\n",
    "ax2 = ax1.twinx()\n",
    "ax1.plot(arange(niter), train_loss)\n",
    "ax2.plot(test_interval * arange(len(test_acc)), test_acc, 'r')\n",
    "ax1.set_xlabel('iteration')\n",
    "ax1.set_ylabel('train loss')\n",
    "ax2.set_ylabel('test accuracy')\n",
    "ax2.set_title('Test Accuracy: {:.2f}'.format(test_acc[-1]))"
   ]
  },
  {
   "cell_type": "markdown",
   "metadata": {},
   "source": [
    "PyCaffe를 이용한 LeNet 학습을 성공적으로 수행하셨습니다.\n",
    "### Excercise) `def lenet` 함수를 변경하여 network의 구조를 변경해 보세요. layer를 추가하고 hidden node의 개수를 쉽게 변경할 수 있습니다.\n",
    "### 변경한 모델에 대해서 학습을 진행하고 성능을 측정해 보세요"
   ]
  },
  {
   "cell_type": "code",
   "execution_count": null,
   "metadata": {
    "collapsed": true
   },
   "outputs": [],
   "source": []
  }
 ],
 "metadata": {
  "description": "Define, train, and test the classic LeNet with the Python interface.",
  "example_name": "Learning LeNet",
  "include_in_docs": true,
  "kernelspec": {
   "display_name": "Python 2",
   "language": "python",
   "name": "python2"
  },
  "language_info": {
   "codemirror_mode": {
    "name": "ipython",
    "version": 2
   },
   "file_extension": ".py",
   "mimetype": "text/x-python",
   "name": "python",
   "nbconvert_exporter": "python",
   "pygments_lexer": "ipython2",
   "version": "2.7.6"
  },
  "priority": 2
 },
 "nbformat": 4,
 "nbformat_minor": 0
}
